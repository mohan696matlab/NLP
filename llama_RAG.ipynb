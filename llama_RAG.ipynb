{
 "cells": [
  {
   "cell_type": "code",
   "execution_count": 28,
   "metadata": {},
   "outputs": [
    {
     "data": {
      "application/vnd.jupyter.widget-view+json": {
       "model_id": "d9323bcbbde148c49957f00d02be5f4d",
       "version_major": 2,
       "version_minor": 0
      },
      "text/plain": [
       "Loading checkpoint shards:   0%|          | 0/2 [00:00<?, ?it/s]"
      ]
     },
     "metadata": {},
     "output_type": "display_data"
    }
   ],
   "source": [
    "from transformers import AutoModelForCausalLM, AutoTokenizer\n",
    "import torch\n",
    "from IPython.display import  clear_output\n",
    "import time\n",
    "\n",
    "device = 'cuda' if torch.cuda.is_available() else 'cpu'\n",
    "\n",
    "DEFAULT_MODEL = \"meta-llama/Llama-3.2-3B-Instruct\"\n",
    "\n",
    "\n",
    "model = AutoModelForCausalLM.from_pretrained(\n",
    "    DEFAULT_MODEL,\n",
    "    torch_dtype=torch.bfloat16,\n",
    "    use_safetensors=True,\n",
    "    device_map=device,\n",
    ")\n",
    "\n",
    "tokenizer = AutoTokenizer.from_pretrained(DEFAULT_MODEL, use_safetensors=True)\n",
    "tokenizer.pad_token_id = tokenizer.eos_token_id"
   ]
  },
  {
   "cell_type": "code",
   "execution_count": 32,
   "metadata": {},
   "outputs": [
    {
     "name": "stderr",
     "output_type": "stream",
     "text": [
      "Setting `pad_token_id` to `eos_token_id`:128001 for open-end generation.\n"
     ]
    },
    {
     "name": "stdout",
     "output_type": "stream",
     "text": [
      "<|begin_of_text|><|begin_of_text|><|start_header_id|>system<|end_header_id|>\n",
      "\n",
      "Cutting Knowledge Date: December 2023\n",
      "Today Date: 10 Mar 2025\n",
      "\n",
      "you are a retrival augmented generation chat bot. Here are some text, use this to reply to the user's query: Presidential elections were held in the United States on November 5, 2024.[a] The Republican Party's ticket—Donald Trump, who was the 45th president of the United States from 2017 to 2021, and JD Vance, the junior U.S. senator from Ohio—defeated the Democratic Party's ticket—Kamala Harris, the incumbent vice president, and Tim Walz, the 41st governor of Minnesota.[6][7]\n",
      "\n",
      "The incumbent president, Joe Biden of the Democratic Party, initially ran for re-election as the party's presumptive nominee,[8] facing little opposition and easily defeating Representative Dean Phillips of Minnesota during the Democratic primaries;[9] however, what was broadly considered a poor debate performance in June 2024 intensified concerns about his age and health, and led to calls within his party for him to leave the race.[10] After initially declining to do so, Biden withdrew on July 21, becoming the first eligible incumbent president to withdraw since Lyndon B. Johnson in 1968.[11] Biden endorsed Harris,[12] who was voted the party's nominee by the delegates on August 5 and became the first nominee who did not participate in the primaries since Hubert Humphrey, also in 1968. Harris selected Walz as her running mate.[13][14] This was the first time since 2000 in which an incumbent vice president ran for president.<|eot_id|><|start_header_id|>user<|end_header_id|>\n",
      "\n",
      "who won 2024 US election<|eot_id|><|start_header_id|>assistant<|end_header_id|>\n",
      "\n",
      "According to the text, the Republican Party's ticket, consisting of Donald Trump and JD Vance, won the 2024 US presidential election.<|eot_id|>\n"
     ]
    }
   ],
   "source": [
    "conversation = [\n",
    "    {\"role\": \"system\", \"content\": '''you are a retrival augmented generation chat bot. Here are some text, use this to reply to the user's query: Presidential elections were held in the United States on November 5, 2024.[a] The Republican Party's ticket—Donald Trump, who was the 45th president of the United States from 2017 to 2021, and JD Vance, the junior U.S. senator from Ohio—defeated the Democratic Party's ticket—Kamala Harris, the incumbent vice president, and Tim Walz, the 41st governor of Minnesota.[6][7]\n",
    "\n",
    "The incumbent president, Joe Biden of the Democratic Party, initially ran for re-election as the party's presumptive nominee,[8] facing little opposition and easily defeating Representative Dean Phillips of Minnesota during the Democratic primaries;[9] however, what was broadly considered a poor debate performance in June 2024 intensified concerns about his age and health, and led to calls within his party for him to leave the race.[10] After initially declining to do so, Biden withdrew on July 21, becoming the first eligible incumbent president to withdraw since Lyndon B. Johnson in 1968.[11] Biden endorsed Harris,[12] who was voted the party's nominee by the delegates on August 5 and became the first nominee who did not participate in the primaries since Hubert Humphrey, also in 1968. Harris selected Walz as her running mate.[13][14] This was the first time since 2000 in which an incumbent vice president ran for president.'''},\n",
    "    {\"role\": \"user\", \"content\": '''who won 2024 US election'''},\n",
    "]\n",
    "\n",
    "prompt = tokenizer.apply_chat_template(conversation, tokenize=False)\n",
    "inputs = tokenizer(prompt, return_tensors=\"pt\").to(device)\n",
    "# print(prompt)\n",
    "\n",
    "with torch.no_grad():\n",
    "    output = model.generate(\n",
    "        **inputs,\n",
    "        do_sample=True,\n",
    "        max_new_tokens=100\n",
    "    )\n",
    "\n",
    "processed_text = tokenizer.decode(output[0], skip_special_tokens=False)\n",
    "\n",
    "print(processed_text)"
   ]
  },
  {
   "cell_type": "code",
   "execution_count": null,
   "metadata": {},
   "outputs": [],
   "source": []
  },
  {
   "cell_type": "code",
   "execution_count": 6,
   "metadata": {},
   "outputs": [
    {
     "data": {
      "application/vnd.jupyter.widget-view+json": {
       "model_id": "9a8caa8a9bf04f41b384274c72c16e4c",
       "version_major": 2,
       "version_minor": 0
      },
      "text/plain": [
       "modules.json:   0%|          | 0.00/349 [00:00<?, ?B/s]"
      ]
     },
     "metadata": {},
     "output_type": "display_data"
    },
    {
     "data": {
      "application/vnd.jupyter.widget-view+json": {
       "model_id": "5da8a92b5b914c34b61c582a34dc6c04",
       "version_major": 2,
       "version_minor": 0
      },
      "text/plain": [
       "config_sentence_transformers.json:   0%|          | 0.00/116 [00:00<?, ?B/s]"
      ]
     },
     "metadata": {},
     "output_type": "display_data"
    },
    {
     "data": {
      "application/vnd.jupyter.widget-view+json": {
       "model_id": "13e73704fd9645de82672720c98f6807",
       "version_major": 2,
       "version_minor": 0
      },
      "text/plain": [
       "README.md:   0%|          | 0.00/10.5k [00:00<?, ?B/s]"
      ]
     },
     "metadata": {},
     "output_type": "display_data"
    },
    {
     "data": {
      "application/vnd.jupyter.widget-view+json": {
       "model_id": "70fce365f531456f98af8fc7678e3b64",
       "version_major": 2,
       "version_minor": 0
      },
      "text/plain": [
       "sentence_bert_config.json:   0%|          | 0.00/53.0 [00:00<?, ?B/s]"
      ]
     },
     "metadata": {},
     "output_type": "display_data"
    },
    {
     "data": {
      "application/vnd.jupyter.widget-view+json": {
       "model_id": "b1077a2eb66c480ea64fb1d3ac2cb59f",
       "version_major": 2,
       "version_minor": 0
      },
      "text/plain": [
       "config.json:   0%|          | 0.00/612 [00:00<?, ?B/s]"
      ]
     },
     "metadata": {},
     "output_type": "display_data"
    },
    {
     "data": {
      "application/vnd.jupyter.widget-view+json": {
       "model_id": "e8b51c530e2d4e47ba12ea808b98f779",
       "version_major": 2,
       "version_minor": 0
      },
      "text/plain": [
       "model.safetensors:   0%|          | 0.00/90.9M [00:00<?, ?B/s]"
      ]
     },
     "metadata": {},
     "output_type": "display_data"
    },
    {
     "data": {
      "application/vnd.jupyter.widget-view+json": {
       "model_id": "1b9a9b64d6e2473585c1dd9df8b1829f",
       "version_major": 2,
       "version_minor": 0
      },
      "text/plain": [
       "tokenizer_config.json:   0%|          | 0.00/350 [00:00<?, ?B/s]"
      ]
     },
     "metadata": {},
     "output_type": "display_data"
    },
    {
     "data": {
      "application/vnd.jupyter.widget-view+json": {
       "model_id": "824fdc76fc6743ddbc18c2e2ed562e86",
       "version_major": 2,
       "version_minor": 0
      },
      "text/plain": [
       "vocab.txt:   0%|          | 0.00/232k [00:00<?, ?B/s]"
      ]
     },
     "metadata": {},
     "output_type": "display_data"
    },
    {
     "data": {
      "application/vnd.jupyter.widget-view+json": {
       "model_id": "190d1e8c1e624752b4e40fab546b61e5",
       "version_major": 2,
       "version_minor": 0
      },
      "text/plain": [
       "tokenizer.json:   0%|          | 0.00/466k [00:00<?, ?B/s]"
      ]
     },
     "metadata": {},
     "output_type": "display_data"
    },
    {
     "data": {
      "application/vnd.jupyter.widget-view+json": {
       "model_id": "b82ef43531984a458a9c638521a19481",
       "version_major": 2,
       "version_minor": 0
      },
      "text/plain": [
       "special_tokens_map.json:   0%|          | 0.00/112 [00:00<?, ?B/s]"
      ]
     },
     "metadata": {},
     "output_type": "display_data"
    },
    {
     "data": {
      "application/vnd.jupyter.widget-view+json": {
       "model_id": "59d138780f2249eebae39a399ec26719",
       "version_major": 2,
       "version_minor": 0
      },
      "text/plain": [
       "config.json:   0%|          | 0.00/190 [00:00<?, ?B/s]"
      ]
     },
     "metadata": {},
     "output_type": "display_data"
    }
   ],
   "source": [
    "from sentence_transformers import SentenceTransformer\n",
    "# 1. Load a pretrained Sentence Transformer model\n",
    "model = SentenceTransformer(\"all-MiniLM-L6-v2\")\n",
    "\n",
    "sentences = [\n",
    "    \"The cat sat on the mat.\",\n",
    "    \"A black cat is lying on the floor.\",\n",
    "    \"I saw a cat playing with a ball of yarn.\",\n",
    "    \"My cat loves to nap in the sun.\",\n",
    "    \"The cat chased the mouse around the house.\",\n",
    "    \"The sky is blue and clear today.\",\n",
    "    \"I enjoy reading books in the evening.\",\n",
    "    \"Bananas are my favorite fruit.\",\n",
    "    \"The train left the station on time.\",\n",
    "    \"The car engine roared as it started.\"\n",
    "]"
   ]
  },
  {
   "cell_type": "code",
   "execution_count": 23,
   "metadata": {},
   "outputs": [
    {
     "name": "stdout",
     "output_type": "stream",
     "text": [
      "torch.Size([10, 384])\n",
      "tensor([[ 1.0000,  0.6232,  0.5023,  0.4426,  0.3480,  0.0505, -0.0058,  0.0165,\n",
      "          0.1436,  0.0524],\n",
      "        [ 0.6232,  1.0000,  0.3732,  0.4673,  0.3104, -0.0131, -0.0237, -0.0363,\n",
      "          0.1290,  0.0487],\n",
      "        [ 0.5023,  0.3732,  1.0000,  0.4236,  0.3921,  0.0772,  0.0532,  0.1713,\n",
      "          0.0617,  0.1955],\n",
      "        [ 0.4426,  0.4673,  0.4236,  1.0000,  0.2515,  0.2127,  0.2723,  0.1890,\n",
      "          0.0934,  0.0862],\n",
      "        [ 0.3480,  0.3104,  0.3921,  0.2515,  1.0000, -0.0040, -0.0042, -0.0452,\n",
      "          0.0884,  0.2093],\n",
      "        [ 0.0505, -0.0131,  0.0772,  0.2127, -0.0040,  1.0000,  0.2002,  0.0612,\n",
      "          0.1230,  0.0687],\n",
      "        [-0.0058, -0.0237,  0.0532,  0.2723, -0.0042,  0.2002,  1.0000,  0.1972,\n",
      "          0.0820, -0.0407],\n",
      "        [ 0.0165, -0.0363,  0.1713,  0.1890, -0.0452,  0.0612,  0.1972,  1.0000,\n",
      "         -0.0301,  0.0230],\n",
      "        [ 0.1436,  0.1290,  0.0617,  0.0934,  0.0884,  0.1230,  0.0820, -0.0301,\n",
      "          1.0000,  0.2197],\n",
      "        [ 0.0524,  0.0487,  0.1955,  0.0862,  0.2093,  0.0687, -0.0407,  0.0230,\n",
      "          0.2197,  1.0000]], device='cuda:0')\n"
     ]
    }
   ],
   "source": [
    "# 2. Calculate embeddings by calling model.encode()\n",
    "embeddings = model.encode(sentences, convert_to_tensor=True)\n",
    "print(embeddings.shape)\n",
    "# [3, 384]\n",
    "# 3. Calculate the embedding similarities\n",
    "similarities = model.similarity(embeddings, embeddings)\n",
    "print(similarities)"
   ]
  },
  {
   "cell_type": "code",
   "execution_count": 24,
   "metadata": {},
   "outputs": [],
   "source": [
    "scores, indices = torch.topk(similarities[0], k=3)"
   ]
  },
  {
   "cell_type": "code",
   "execution_count": 26,
   "metadata": {},
   "outputs": [
    {
     "data": {
      "text/plain": [
       "tensor([0, 1, 2], device='cuda:0')"
      ]
     },
     "execution_count": 26,
     "metadata": {},
     "output_type": "execute_result"
    }
   ],
   "source": [
    "indices"
   ]
  },
  {
   "cell_type": "code",
   "execution_count": 9,
   "metadata": {},
   "outputs": [
    {
     "data": {
      "image/png": "[encoded data removed]",
      "text/plain": [
       "<Figure size 800x600 with 1 Axes>"
      ]
     },
     "metadata": {},
     "output_type": "display_data"
    }
   ],
   "source": [
    "import matplotlib.pyplot as plt\n",
    "from sklearn.decomposition import PCA\n",
    "from sentence_transformers import SentenceTransformer\n",
    "\n",
    "# 1. Load a pretrained Sentence Transformer model\n",
    "model = SentenceTransformer(\"all-MiniLM-L6-v2\")\n",
    "\n",
    "# 2. Define the sentences\n",
    "sentences = [\n",
    "    \"The cat sat on the mat.\",\n",
    "    \"A black cat is lying on the floor.\",\n",
    "    \"I saw a cat playing with a ball of yarn.\",\n",
    "    \"My cat loves to nap in the sun.\",\n",
    "    \"The cat chased the mouse around the house.\",\n",
    "    \"The sky is blue and clear today.\",\n",
    "    \"I enjoy reading books in the evening.\",\n",
    "    \"Bananas are my favorite fruit.\",\n",
    "    \"The train left the station on time.\",\n",
    "    \"The car engine roared as it started.\"\n",
    "]\n",
    "\n",
    "# 3. Encode the sentences to embeddings\n",
    "embeddings = model.encode(sentences)\n",
    "\n",
    "# 4. Reduce the dimensionality to 2D using PCA\n",
    "pca = PCA(n_components=2)\n",
    "reduced_embeddings = pca.fit_transform(embeddings)\n",
    "\n",
    "# 5. Plot the reduced embeddings with sentence indices\n",
    "plt.figure(figsize=(8, 6))\n",
    "plt.scatter(reduced_embeddings[:, 0], reduced_embeddings[:, 1])\n",
    "\n",
    "# Annotate each point with the sentence index\n",
    "for i, sentence in enumerate(sentences):\n",
    "    plt.annotate(i, (reduced_embeddings[i, 0], reduced_embeddings[i, 1]))\n",
    "\n",
    "plt.title(\"2D PCA of Sentence Embeddings\")\n",
    "plt.xlabel(\"Principal Component 1\")\n",
    "plt.ylabel(\"Principal Component 2\")\n",
    "plt.show()\n"
   ]
  },
  {
   "cell_type": "code",
   "execution_count": 12,
   "metadata": {},
   "outputs": [
    {
     "data": {
      "text/plain": [
       "'cosine'"
      ]
     },
     "execution_count": 12,
     "metadata": {},
     "output_type": "execute_result"
    }
   ],
   "source": [
    "model.similarity_fn_name"
   ]
  }
 ],
 "metadata": {
  "kernelspec": {
   "display_name": "diffuser_data_generation",
   "language": "python",
   "name": "python3"
  },
  "language_info": {
   "codemirror_mode": {
    "name": "ipython",
    "version": 3
   },
   "file_extension": ".py",
   "mimetype": "text/x-python",
   "name": "python",
   "nbconvert_exporter": "python",
   "pygments_lexer": "ipython3",
   "version": "3.12.2"
  }
 },
 "nbformat": 4,
 "nbformat_minor": 2
}
