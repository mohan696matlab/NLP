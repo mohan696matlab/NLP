{
 "cells": [
  {
   "cell_type": "markdown",
   "metadata": {},
   "source": [
    "First, we need to install the Hugging Face Transformers library, which gives us access to state-of-the-art speech and language models. If you haven’t installed it yet, run:\n",
    "\n",
    "```\n",
    "pip install transformers torch\n",
    "```"
   ]
  },
  {
   "cell_type": "markdown",
   "metadata": {},
   "source": [
    "Now, let’s import the necessary libraries and set up our device for computation. If you have a GPU, the code will automatically use it for better performance!"
   ]
  },
  {
   "cell_type": "markdown",
   "metadata": {},
   "source": [
    "## Transcribing mp3 file to numpy requires the FFmpeg. Follow the steps in this link to have it installed. [(How to install FFmpeg in windows)](https://www.wikihow.com/Install-FFmpeg-on-Windows)"
   ]
  },
  {
   "cell_type": "code",
   "execution_count": 1,
   "metadata": {},
   "outputs": [],
   "source": [
    "from transformers import pipeline,AutoModelForCausalLM, AutoTokenizer\n",
    "import torch\n",
    "from IPython.display import  clear_output\n",
    "\n",
    "\n",
    "device = 'cuda' if torch.cuda.is_available() else 'cpu'"
   ]
  },
  {
   "cell_type": "markdown",
   "metadata": {},
   "source": [
    "# SPEECH-TO-TEXT WITH WHISPER"
   ]
  },
  {
   "cell_type": "markdown",
   "metadata": {},
   "source": [
    "# If MP4 (or other video format) convert to MP3"
   ]
  },
  {
   "cell_type": "code",
   "execution_count": null,
   "metadata": {},
   "outputs": [
    {
     "name": "stderr",
     "output_type": "stream",
     "text": [
      "ffmpeg version 4.4.2-0ubuntu0.22.04.1 Copyright (c) 2000-2021 the FFmpeg developers\n",
      "  built with gcc 11 (Ubuntu 11.2.0-19ubuntu1)\n",
      "  configuration: --prefix=/usr --extra-version=0ubuntu0.22.04.1 --toolchain=hardened --libdir=/usr/lib/x86_64-linux-gnu --incdir=/usr/include/x86_64-linux-gnu --arch=amd64 --enable-gpl --disable-stripping --enable-gnutls --enable-ladspa --enable-libaom --enable-libass --enable-libbluray --enable-libbs2b --enable-libcaca --enable-libcdio --enable-libcodec2 --enable-libdav1d --enable-libflite --enable-libfontconfig --enable-libfreetype --enable-libfribidi --enable-libgme --enable-libgsm --enable-libjack --enable-libmp3lame --enable-libmysofa --enable-libopenjpeg --enable-libopenmpt --enable-libopus --enable-libpulse --enable-librabbitmq --enable-librubberband --enable-libshine --enable-libsnappy --enable-libsoxr --enable-libspeex --enable-libsrt --enable-libssh --enable-libtheora --enable-libtwolame --enable-libvidstab --enable-libvorbis --enable-libvpx --enable-libwebp --enable-libx265 --enable-libxml2 --enable-libxvid --enable-libzimg --enable-libzmq --enable-libzvbi --enable-lv2 --enable-omx --enable-openal --enable-opencl --enable-opengl --enable-sdl2 --enable-pocketsphinx --enable-librsvg --enable-libmfx --enable-libdc1394 --enable-libdrm --enable-libiec61883 --enable-chromaprint --enable-frei0r --enable-libx264 --enable-shared\n",
      "  libavutil      56. 70.100 / 56. 70.100\n",
      "  libavcodec     58.134.100 / 58.134.100\n",
      "  libavformat    58. 76.100 / 58. 76.100\n",
      "  libavdevice    58. 13.100 / 58. 13.100\n",
      "  libavfilter     7.110.100 /  7.110.100\n",
      "  libswscale      5.  9.100 /  5.  9.100\n",
      "  libswresample   3.  9.100 /  3.  9.100\n",
      "  libpostproc    55.  9.100 / 55.  9.100\n",
      "Input #0, mov,mp4,m4a,3gp,3g2,mj2, from '2025-03-15 10-36-27.mp4':\n",
      "  Metadata:\n",
      "    major_brand     : isom\n",
      "    minor_version   : 512\n",
      "    compatible_brands: isomiso2avc1mp41\n",
      "    encoder         : Lavf58.76.100\n",
      "  Duration: 00:12:34.45, start: 0.000000, bitrate: 595 kb/s\n",
      "  Stream #0:0(und): Video: h264 (High) (avc1 / 0x31637661), yuv420p(tv, bt709), 1920x1080 [SAR 1:1 DAR 16:9], 390 kb/s, 60 fps, 60 tbr, 15360 tbn, 120 tbc (default)\n",
      "    Metadata:\n",
      "      handler_name    : VideoHandler\n",
      "      vendor_id       : [0][0][0][0]\n",
      "  Stream #0:1(und): Audio: aac (LC) (mp4a / 0x6134706D), 48000 Hz, mono, fltp, 192 kb/s (default)\n",
      "    Metadata:\n",
      "      handler_name    : SoundHandler\n",
      "      vendor_id       : [0][0][0][0]\n",
      "Stream mapping:\n",
      "  Stream #0:1 -> #0:0 (aac (native) -> mp3 (libmp3lame))\n",
      "Press [q] to stop, [?] for help\n",
      "Output #0, mp3, to 'output.mp3':\n",
      "  Metadata:\n",
      "    major_brand     : isom\n",
      "    minor_version   : 512\n",
      "    compatible_brands: isomiso2avc1mp41\n",
      "    TSSE            : Lavf58.76.100\n",
      "  Stream #0:0(und): Audio: mp3, 48000 Hz, mono, fltp, 192 kb/s (default)\n",
      "    Metadata:\n",
      "      handler_name    : SoundHandler\n",
      "      vendor_id       : [0][0][0][0]\n",
      "      encoder         : Lavc58.134.100 libmp3lame\n",
      "size=   15104kB time=00:10:53.85 bitrate= 189.2kbits/s speed= 145x    \r"
     ]
    },
    {
     "name": "stdout",
     "output_type": "stream",
     "text": [
      "Conversion successful: output.mp3\n"
     ]
    },
    {
     "name": "stderr",
     "output_type": "stream",
     "text": [
      "size=   17682kB time=00:12:34.34 bitrate= 192.0kbits/s speed= 145x    \n",
      "video:0kB audio:17681kB subtitle:0kB other streams:0kB global headers:0kB muxing overhead: 0.003999%\n"
     ]
    }
   ],
   "source": [
    "import subprocess\n",
    "\n",
    "def convert_mp4_to_mp3(input_file, output_file):\n",
    "    \"\"\"Convert an MP4 file to MP3 using ffmpeg.\"\"\"\n",
    "    try:\n",
    "        command = [\n",
    "            \"ffmpeg\",\n",
    "            \"-i\", input_file,    # Input file\n",
    "            \"-vn\",               # No video\n",
    "            \"-acodec\", \"libmp3lame\",  # MP3 codec\n",
    "            \"-b:a\", \"192k\",      # Audio bitrate\n",
    "            output_file          # Output file\n",
    "        ]\n",
    "        subprocess.run(command, check=True)\n",
    "        print(f\"Conversion successful: {output_file}\")\n",
    "    except subprocess.CalledProcessError as e:\n",
    "        print(f\"Error during conversion: {e}\")\n",
    "\n",
    "# Example usage\n",
    "convert_mp4_to_mp3(\"meeting.mp4\", \"meeting.mp3\")\n"
   ]
  },
  {
   "cell_type": "markdown",
   "metadata": {},
   "source": [
    "Next, we’ll use OpenAI’s Whisper model to transcribe an audio file. We’re using the whisper-small model for efficiency, but you can switch to whisper-large for better accuracy."
   ]
  },
  {
   "cell_type": "code",
   "execution_count": 7,
   "metadata": {},
   "outputs": [
    {
     "name": "stderr",
     "output_type": "stream",
     "text": [
      "Device set to use cuda\n"
     ]
    }
   ],
   "source": [
    "pipe  = pipeline(\"automatic-speech-recognition\",\n",
    "                    \"openai/whisper-small\", \n",
    "                    chunk_length_s=30,\n",
    "                    stride_length_s=5,\n",
    "                    return_timestamps=True,\n",
    "                    device=device, \n",
    "                    generate_kwargs = {\"language\": 'French', \"task\": \"translate\"}) "
   ]
  },
  {
   "cell_type": "markdown",
   "metadata": {},
   "source": [
    "Now, let’s process an audio file. The model will transcribe and translate it into English.\""
   ]
  },
  {
   "cell_type": "code",
   "execution_count": 8,
   "metadata": {},
   "outputs": [
    {
     "name": "stderr",
     "output_type": "stream",
     "text": [
      "/home/mohan.dash/miniconda3/envs/diffuser_data_generation/lib/python3.12/site-packages/transformers/models/whisper/generation_whisper.py:573: FutureWarning: The input name `inputs` is deprecated. Please make sure to use `input_features` instead.\n",
      "  warnings.warn(\n",
      "Whisper did not predict an ending timestamp, which can happen if audio is cut off in the middle of a word. Also make sure WhisperTimeStampLogitsProcessor was used during generation.\n"
     ]
    },
    {
     "name": "stdout",
     "output_type": "stream",
     "text": [
      "(0.0, 145.0)--> and The and and and and and and and and and and and and and It's ok, it's ok Hello. How are you? I'm fine. How are you? I'm fine. How are you? I'm fine. I'm fine. Hello. I'm with Maximilian Moro next to you. He's not connected to the NB. Hello. Hello. Hello. I'm sorry. I'm sorry. I'm sorry. I'm sorry. I'm sorry. I'm sorry. I'm sorry. I'm sorry. I'm sorry. I'm sorry. I'm aligned. So this small thing and this small thing are aligned. So you see they drew the green lines here they\n",
      "(145.0, 227.0)--> want to check that this part and this part are parallel and here they want to check I think the form what do you think about it? I get that? I guess that it's out. That can be out. It's patch-corner efficient. Maybe both can do. But this one, this one especially, it's quite... I don't think patch-corner can do this. But that's actually really good. I'm not sure because it comes in logically and patch code is valid This one is simple, I'm not sure about this one I think the problem is that the model wouldn't output, it's not parallel It would would output like this thing here, it has not the correct shape or something like that. But, as I said, I don't see how we could just check for parallelism. Like, definitely not the detection model but something like YOLO or something, or just like line detection. Yeah, exactly'm sorry. But yeah, we have to create a model for that.\n",
      "(227.0, 232.0)--> But yeah, I think during this meeting, that's what we're going to discuss in the future videos.\n",
      "(232.0, 233.0)--> They really...\n",
      "(233.0, 234.0)--> Yeah.\n",
      "(234.0, 222.0)--> Control, so yeah. Okay. Thank you. to imagine a test scenario.\n",
      "(222.0, 224.64)--> We are not really aware of the\n",
      "(224.64, 226.64)--> potential of the future,\n",
      "(226.64, 228.64)--> but I imagine that we can\n",
      "(228.64, 230.64)--> generate our own ideas,\n",
      "(230.64, 232.64)--> our own artificial images,\n",
      "(232.64, 293.96)--> our own images at night, or we manipulate the type of the map. So for me, what interests me is to know the number of cameras that are necessary to control the entire element, because we can see that there are controls, we have to visualize the map with its globality to check the general state, and we have to control the plan. And indeed, with these controls, we have to more or less look for the resolution at the moment. And I'm interested in doing this work to see the feasibility, we will answer to the feasibility, but also to use the structural structure of the roof, with the use of the\n",
      "(293.96, 280.0)-->\n",
      "(284.0, 287.0)--> That's it, that's the goal of this meeting.\n",
      "(289.0, 292.0)--> And then, because the skin is joined.\n",
      "(567.0, 565.0)--> So, on the board, we can see that I added all the controls, the parameters, the faces that will be controlled compared to the control class, imagine, I will add a camera, which allows me to take the number of cameras necessary, whether to have a global view or only to put them on the elements. There are surely cameras that will be mutualized, especially for the case of the label, to read what is marked. We could use the same camera to control the connectors just by turning the card. there will also be this logic of mutualization by turning the CTE card so I'm going to shake a little this control so here the state generates components, the identification of components, so for me at least a component less than missing components it's clear So we agree that on the global view and the map, we are talking about this view with the absence of any element, but with a global view. Yes, in fact, if you want, I did it less than the operator. The operator does that. After, in the view, I think that the software, why do you want things like that? Yes, but it's already that. In fact, if you want, your image in black and white, for me, all the components are well aligned. Imagine that you find a map that is like that, I can't tell you, problem with the detector. Ok, so a little hard to move, a bigger component, a small map, a small map, etc. Move, then we have a general view. We go to the denominator of this general view, and we detect that there is something that is a bit different from what we have defined as nominal. Yes, a comparison. We are looking at the absence of alignment, lack of hardness, ok, that's clear. For me, there will be a camera that will control the length of the map, to visualize the components. I imagine that it will be the same photo that we will use to check if there is no broken component in the beginning. So there we talk about intact corners. In fact, here, for example, it is the corner of a plastic limper. But it can also be a very hard piece of wood. In fact, in the case of Aluf, you have to use aluminum pieces. All that concerns the wood, it's a bit off, because we don't really look at the wood. So the wood is really the wood of the wood. Ok, the SN, the amendment, the codebar, the comparison. So this image, I have a good image, I tried the black circle. We managed to read it, but it also concerns the fact that the label is a female and the operator comes with the middle finger it's what they lie I did the course with the staff and the impression is that we can move it we can already draw the image and we can't see it anymore as soon as it's visible, it's gone I had a question about this What is the amendment? I imagine that the amendment must be A, B, C or whatever That is. That's right. What is the level in this ticket? We can't see it, it's next to me. In my presentation... We have to find the letter, no question. Yes, that's it. The letter should be found. Ok, it's like a moron. No, that's it. But on this image, we did it, it's not there.\n",
      "(565.0, 568.0)--> It's on the side.\n",
      "(568.0, 571.0)--> And it's a circle, what does that mean?\n",
      "(571.0, 574.0)--> No, that's a mark.\n",
      "(574.0, 577.0)--> That's the signature of the foreman.\n",
      "(577.0, 580.0)--> It's not really a lot of math, it's a lot of fault.\n",
      "(580.0, 582.0)--> Yes, there are two, especially David.\n",
      "(582.0, 686.0)--> It's not a lot of mistakes. Yes, there are two, especially David. It's the supplier that marks the mark. Ok, because the mount will not read it. It will be a classification. Basically, I don't know what I can do. Basically, what we're going to do is that, for example, imagine that I'm going around A. In fact, I'm going to create a classification model with a couple of images in the same class as the A, and I'm going to call it A. The second class is called B, and I'm going to call it A. I'm not going to read it because the R won't allow the difference, but I'm going to classify each image to give the amendment. Ok, that was important for me to know We will be more dedicated to the logic of comparison PN, QR code, codebar and text That's clear for me The card was a nananon Brasio Casser in the Sodor There, simply, it was a image There, it's a lanyard in the Sodor Ok Is it just on this comparison No no no no the but in fact there is a small opening as soon as we see that the info is raised in fact it is very good and the image that I managed to find clearly I have a card that means with a very high resolution but it was really that I was in the photo but apart from that I really took it from a document of control in fact existing but this image that would be enough for me Because on this image I have a little closer I don't have enough images to show you\n",
      "(681.0, 681.64)--> Because on this image I have allowed you to get closer to the camera All that I need to know is that on the Vue de Dauball there are a lot of components on which I control the armature No?\n",
      "(683.64, 684.08)--> I imagine that it's...\n",
      "(685.08, 687.88)--> And... I ask myself how I'm going to do with the cameras\n",
      "(687.88, 726.0)--> Do I sleep once or several times? Ok, I'll see. I'm interested to know if it's a good idea to know how I'm going to do with the camera No, it's a good idea, but I can't do the applications on my side. I don't know if you saw it, because you only made it on the map, are you dancing?\n",
      "(726.0, 747.0)--> In fact, we have a nuclear plane. I don't know if you saw it, because you only made it on the map, you dance in it?\n",
      "(747.0, 744.0)--> In fact, we have a binocular, and the binocular actually, there is a system of elements, it is called a little light in the UB. It's not a very good idea, but it's not something that is absolutely...\n",
      "(744.0, 748.0)--> I think that on the march, to be able to...\n",
      "(748.0, 752.0)--> If I had the reference, it would be...\n",
      "(752.0, 787.0)--> It's nothing. A little ampoule costs 50 euros. I will send you the reference in the studio and I send you, but it's not a special equipment. special no no no at the beginning I believed in the beginning in fact I believed that we put it in a kind of band but not's a piece of light I change the color of the light I'm interested if you have the dream I will note in my video Ok, it's clear for me, we have the habit.\n",
      "(806.0, 808.0)--> Ok, present, a hard-to-get presence, so for the transphoes, you put the heads, the sounds and the three sounds, we agree that these two components exist on the map. You press it or you press it? Wait, you talk about which one? Oh yes, yes, that one. That one, you press one, it's one.\n",
      "(808.0, 810.0)--> It's two things, it's two components.\n",
      "(810.0, 867.0)--> That one and the other one. Not that, there was another image that looks like that. I don't know where it is. But in the presentation, they are good. Yes, it's that one. It looks like it, but it's not the same. I'm talking about the bigger and wider the bigger and wider. Do you see them? How many components are there on the map? My question is whether my camera should zoom in or not. I think it's a zoom on this... the\n",
      "(867.0, 860.0)-->\n",
      "(863.56, 869.0)--> I think it's a zoom on these two components and so it's four small paths to control because each transport has a path above and below\n",
      "(869.0, 873.0)--> and that's it, in fact, zoom is just for that\n",
      "(873.0, 877.0)--> otherwise we are calm, the rest is far away\n",
      "(877.0, 878.0)--> yeah, that's right\n",
      "(878.0, 881.0)--> yeah, it's there to zoom it out, that's it\n",
      "(881.0, 928.28)--> and otherwise, but it doesn't take. So the operators are used to control it by the shape of the weld. It must be flat. Flat, flat, flat. I see that it is part of a single block. Here I see two small blocks. Super a super girl there is a lot of sweat on top it may be that it is not good\n",
      "(928.28, 1007.0)--> ok ok the next file reprise I did not find it on the map I agree it does not exist I sent you a version of the game not one Ok, and I will take the light for me In fact it is the size of a leafer which simply has a small, there is just the particularity of little bit of a little bit of a little bit of a little bit of a little bit of a little bit of a little bit of a little bit of a little bit of a little bit of a little bit of a little bit of a little bit of a little bit of a little bit of a little bit of a little bit of a little bit of a little bit of a little bit of a little bit of a little bit of a little bit of a little bit of a little bit of a little bit of a little bit of a little bit of a little bit of a little bit of a little bit of a little bit of a little bit of a little bit of a little bit of a little bit of a little bit of a little bit of a little bit of a little bit of a little bit of a little bit of a little bit of a little bit of a little bit of a little bit of a little bit of a little bit of a little bit of a little bit of a little bit of a little bit of a little bit of a little bit of a little bit of a little bit of a little bit of a little bit of a little bit of a little bit of a little bit of a little bit of a little bit of a little bit of a little bit of a little bit of a little bit of a little bit of a little bit of a little bit of a little bit of a little bit of a little bit of a little bit of a little bit of a little bit of a little bit of a little bit of a little bit of a little bit of a little bit of a little bit of a little bit of a little bit of a little bit of a little bit of a little bit of a little bit of a little bit of a little bit of a little bit of a little bit of a little bit of a little bit of a little bit of a little bit of a little bit of a little bit of a little bit of a little bit of a little bit of a little bit of a little bit of a little bit of a little bit of a little bit of How many copies are there on the map? Oh yes, it's the only one. It's called the N17 copy. Why do we control it? Because we would like it to be fine. The small thread is wet, it must be well wet and not be damaged. It shouldn't be damaged, for example, if it was a copy of the file, it would be dangerous for the map, it would cause a short circuit. Yes, ok. You see it? the\n",
      "(1007.0, 1000.0)-->\n",
      "(1004.0, 1047.0)--> the I check and if I manage to save a new third she will have necessarily that because that's what I see that you see it ok ok it was not clear for me but there with the images I I already have the image of a car like this you see a tag yes it's pretty clear, the epoxy is the white plate\n",
      "(1047.0, 1040.0)-->\n",
      "(1042.0, 1044.0)--> It's a picture of Jack like that, you see? Yes, it's perfect.\n",
      "(1044.0, 1048.0)--> It's really that, in fact, that they are well parallel.\n",
      "(1048.0, 1050.0)--> Because it means that apart from receiving a shock,\n",
      "(1050.0, 1054.0)--> it is well positioned, it would be necessary that they are more or less like that.\n",
      "(1054.0, 1056.0)--> Ok.\n",
      "(1056.0, 1060.0)--> I think it's quite clear, in fact, there, for example, the epoxy,\n",
      "(1060.0, 1065.0)--> it's the plate where the epoxy is the white plate, it must be parallel with the ferrite. I've played a corner but it can be everywhere. And on this diversity there is only one composer, we agree to see it.\n",
      "(1065.0, 1126.0)--> Normally, yes, in fact there is only one composer, we agree to see it. Normally, yes, there is only one composer. The only thing that the star has received, the only thing that has not, it's just the N17. No, that's the only thing left. You have everything left, normally. I prefer to check it and it's a bit more. Ok, so now it's clear for me. And the other one? Yes. Ok, go ahead. For the shape, I've never seen a bad one. But my respect for him is more for that.\n",
      "(1129.0, 1138.0)--> Regarding the territory, whether it's well-placed, I was really surprised at the game where he looks like a real world.\n",
      "(1139.0, 1145.0)--> There is almost little space, so we consider it well-placed. We can consider that he is well flak At this level\n",
      "(1146.0, 1147.0)--> Ok\n",
      "(1156.0, 1159.0)--> The capos are clear for me\n",
      "(1159.0, 1161.0)--> Yes, it's dangerous\n",
      "(1162.0, 1164.0)--> We find him a lot because it's him\n",
      "(1227.0, 1226.0)--> It's not good? Yeah, it's good for me The height of the cage is good too And it's good too No, the others were clear for me Yeah, but parents, you're a lute, a step, a new Because next to the gates, you have two little labels You have to be careful, you have to take a step to move it Because next to the hood you have two small labels You have to read them, just look at them Yes, these are SD labels, these two No, there is a SD label, a supply label It's on the hood in the middle The voltage is always on the middle cap The voltage is always on the middle cap On the left side Ok, it must be on the middle It's not that it's on the middle but on the left side Is it there? No, it's the one. Yes, the supplier and the voltage on the hood.\n",
      "(1226.0, 1229.0)--> Oh yes, the supplier is the first one to see.\n",
      "(1229.0, 1233.0)--> Yes, the supplier, in fact, they don't read and look at everything that is present.\n",
      "(1233.0, 1234.0)--> Present?\n",
      "(1234.0, 1239.0)--> Yes, because today they don't scan, they make the...\n",
      "(1239.0, 1247.0)--> Yes. the\n",
      "(1247.0, 1240.0)-->\n",
      "(1242.0, 1245.0)--> the Ok, the connectors for me, it's clear. The alignment and they are not broken.\n",
      "(1248.0, 1329.0)--> That's the one. In fact, we see it better with the light of the light. We see it better, but we have to do that. That's it, in any case. You have to say it, in fact but it's not who we should do that. That's why. We should just say that there is a school point. We're talking about him, right? Yes, that's it. Ok. That's a little blue dot. And on the card I sent you, normally there are some remains of a school, but I don't know if it's... I don't think you have everything because in our case it's a little bubble, in fact, curved and on the card that I sent you I think it's almost not pleasant, in fact we just see a little of this call So the cards, the cards that I have left Sorry, because when you control it, it sticks. the\n",
      "(1329.0, 1320.0)-->\n",
      "(1323.0, 1324.0)--> When you say glue, is it a white element?\n",
      "(1326.0, 1327.0)--> Yes, that's it.\n",
      "(1330.0, 1334.0)--> It's the glue of the ejector.\n",
      "(1336.0, 1338.0)--> In fact, there is the glue of the ejector that holds the pin. So the doubts are a bit online.\n",
      "(1338.0, 1467.0)--> If there is no glue, the little pin will... the The school is well bombed, the pretty ones, so on the other side we see that it is actually starting. Ok, good. Goupi move, that's good for me, after others the tarot. Tarot hole, in fact, it can be just a hole of... next to it, in fact, we have the hole of a foreign body. So a hole of tarot on the aluminum is for that. If we find a a hole, we do not find the filter. And they do not test the filter, just to see if there is something, the regulator is screwed on the hole and that's it. They do not do more than that. On the whole of the holes? Because there are several on the map? No, actually the hole to be screwed on with the P on the presentation. I saw that on the presentation there are only the examples. No, there is only the taboed hole on this card. In any case, for the E44932 there is only one on the other and there are six on the smallest card. But in general, it concerns the other. And the last one, I don't understand the foreign body too much. I don't see it, it's not... In fact, how they do the perc, sometimes the hole is not clear, they are sometimes on the lily, sometimes in the small hole of the bottom. In the presentation, you usually have a sign where it is, in fact. I know where he is but... the\n",
      "(1467.0, 1460.0)-->\n",
      "(1466.0, 1471.0)--> I know where they are but do you see my presentation? Yes I see it but do you see on the image a red bull?\n",
      "(1471.0, 1476.0)--> It's this element, this little stranger\n",
      "(1476.0, 1487.0)--> No no no, it's the one on the right the\n",
      "(1487.0, 1480.0)-->\n",
      "(1482.0, 1484.0)--> to the right you can't see it\n",
      "(1484.0, 1486.0)--> wait, I'm going to do something\n",
      "(1486.0, 1488.0)--> you can't see it\n",
      "(1488.0, 1490.0)--> I'm sharing it on the screen\n",
      "(1494.0, 1496.0)--> it's this little strange body\n",
      "(1496.0, 1498.0)--> yes, that's what we're trying to\n",
      "(1498.0, 1500.0)--> ok, no\n",
      "(1500.0, 1507.0)--> wait, it's that one the\n",
      "(1507.0, 1500.0)-->\n",
      "(1607.0, 1606.0)--> I think it's a little bit of plastic, but it's not bad. good for me, it's good for me, it's good for me, it's good for me, it's good for me, it's good for me, it's good for me, it's good for me, it's good for me, it's good for me, it's good for me, it's good for me, it's good for me, it's good for me, it's good for me, it's good for me, it's good for me, it's good for me, it's good for me, it's good for me, it's good for me, it's good for me, it's good for me, it's good for me, it's good for me, it's good for me, it's good for me, it's good for me, it's good for me, it's good for me, it's good for me, it's good for me, it's good for me, it's good for me, it's good for me, it's good for me, it's good for me, it's good for me, it's good for me, it's good for me, it's good for me, it's good for me, it's good for me, it's good for me, it's good for me, it's good for me, it's good for me, it's good for me, it's good for me, it's good for me, it's good for me, it's good for me, it's good for me, it's good for me, it's good for me, it's good for me, it's good for me, it's good for me, it's good for me, it's good for me, it's good for me, it's good for me, it's good for me, it's good for me, it's good for me, it's good for me, it's good for me, it's good for me, it's good for me, it's good for me, That's good for me, we don't have blood Ok, but it's clearer now, in my head We're just waiting to sweep, you just shared I wanted to send you a new version of the presentation Yes Here In addition, it's a bit concerning the board, I put the two in parallel. I will answer your question, how do I generate the defects, for things I could have revised, and I will use it in the future. And that's it. Regarding the labels, there is something I wanted to say. It must be understood, as we say, label is already black, we said. It must be done well in positioning, it is important that it is well presented on the frame. It must be passed a little too low. As you normally receive them, we talk about this position Wait, I'm here Yes, that's it, we're here, it's good\n",
      "(1606.0, 1610.0)--> But it could happen that someone is trying to change the label\n",
      "(1610.0, 1614.0)--> The ROCO, the label is present, but it's a bit off\n",
      "(1614.0, 1617.0)--> It's like that, it's good, it's good, we're more in the map\n",
      "(1617.0, 1619.0)--> Ok, here\n",
      "(1619.0, 1621.0)--> Ok, we're good\n",
      "(1621.0, 1653.0)--> And that I'll tell you what else I want to say. the\n",
      "(1653.0, 1640.0)-->\n",
      "(1642.0, 1643.0)--> The Parani zones, is it clear for you?\n",
      "(1644.0, 1646.0)--> What? The Parani zones, actually.\n",
      "(1646.0, 1648.0)--> It concerns the Loverny.\n",
      "(1650.0, 1652.0)--> Well, yes, we have to look back.\n",
      "(1654.0, 1771.76)--> The Parani zones paint that's it it's around the vis because it's full normally it's about as soon as there are metal pieces that a area of the paint that means that the verni does not stop that's why you need the light you see it so you can see it well. Yes, yes, sure. So you realize that there is no glass. And on the metal parts, there is no glass. On the plastic parts, the connectors, there is no glass of glass either. That's also what we're looking at. Ok. I'm going to send you the presentation, you'll see it. And here it is for me. I have another question, because I used the Modochrome cameras, they have one color, because they have good resolutions at home. Are you interested in having cameras with colors? because because the monochromes, that's to do tests, but in the final use, do you want to have color cameras or the fact that having a monochrome does not suit you? As soon as it detects the default, it's not bad. After, is there a question of cuts, perhaps, to reduce of cuts? It's a question of ergonomics. When we go up an alert, there are problems. It's easier to see the area where there is a detected anomaly with colors. a monochrome is detected well but when the user has a photo of the default maybe with\n",
      "(1771.76, 1763.0)--> colors it will be easier for him to position himself on the image to find the Max, what do you think about it?\n",
      "(1763.0, 1764.0)--> I don't know\n",
      "(1765.0, 1766.0)--> No, I'm not...\n",
      "(1766.0, 1770.0)--> When I kill images, I kill the metal in the air\n",
      "(1770.0, 1786.0)--> And in addition, the separatists won't be afraid the I will keep it in account but for now no, it's not important to me because I will answer you at the limit\n",
      "(1786.0, 1907.0)--> by mail if ever, but for now, I think it's not. OK, very good. So, what we're going to do with the research team, which is present in the Union, is that for each ICAM or specific control, we're going to create a set of image, by making acquisitions with the instructions that we have shown. We will generate our own OK images if possible, by adding small particles, by deforming the image, by masking for example the labels. And we will do a test on an image sample, and we will give you the result of feasibility for each control what are the conditions of success and we will make in the end a balance of FESA on the whole of the controls that we have done to know what is FESA what is not FESA, what are the conditions of success and we will share and we will have to of this study because there is also Patrick, who is interested in the return of this feasibility and suddenly I make a state of feasibility by control and possibly propose at the end a setup with a number of cameras to put in place to make this diversity For the moment how many cameras do you have? I have a minimum of 6 I see a minimum of 6 because what I noticed is that I zoomed too much on the screen, on the cameras, but if we talk about the future of the labels, we can visualize it with a global view image. We can see that the SD and 2 SD are there.\n",
      "(1907.0, 1910.0)--> This image is not optimized.\n",
      "(1910.0, 2052.0)--> I can delete cameras and mutualize with others Perfect And about the... There we talked about the biggest And the most complicated I think And about the little one The E37013 Yeah And what does it sound haven't advanced on the other one yet I have to understand that it was the priority I will do the same work, once I have the setup for the first one I could easily integrate the second one It will be a return in the same way I hope it will be compatible. Yes, the subject is to know if with the same setup I can control both. If these two different setups, you have to find a way to mutualize. This way, it will be a number of mutual camera d2. You also have to say to yourself, because I have a little more or less, less 2 degrees of freedom because I move my cameras as I want to have the length of the view that interests me but at the moment when I introduce the second card, maybe I will have more constraints to see I want to focus on this card at the beginning, having a fairly detailed return to feasibility and to add the second one, eventually. No problem, no problem. Don't hesitate to come to me if you need anything, be it at least in terms of health. There you go, there you go. On my side, I didn't add anything about bubbles to my side. As for the bubbles, I would like them to be detected. The bubbles, you say? Yes, or the presentation if you want. Here, there is a bubble, you have to zoom it. And here, I found you in the other presentation, a nice photo. So I read the another nice picture, a bubble that makes a bridge between two compositions, it's a chaos, there is a bubble detection Ok. And here we go, but if we detect the bubbles at the limit, the operators will see on their side and they will say to themselves, it's a chaos.\n",
      "(2052.0, 2087.0)--> That's why I... but if not the goal of finding the bubbles is to avoid the bombs anyway ok but already if they can find the bubbles it's an image... yes I'll send it, it's the one I found it's interesting to see how it is represented on an image of bubbles ok It's not a global view, actually. the\n",
      "(2087.0, 2080.0)-->\n",
      "(2085.0, 2086.0)--> It's not a global view, it can be seen but we can't see it well. It's not a cloud.\n",
      "(2086.0, 2088.0)--> And it's not in UV.\n",
      "(2088.0, 2093.0)--> Is it blue?\n",
      "(2093.0, 2097.0)--> No, it's a little bit.\n",
      "(2097.0, 2100.0)--> But on the photo I have, it's not in UV.\n",
      "(2100.0, 2186.0)--> But we can see it anyway. I'll send you, are you ok? I don't know, Carlos, do you have any questions? Do you have any questions concerning your team? We'll stay for a few minutes. No, on No, I think it's more clear. If I have a few questions, I will ask them. Perfect. For now, it's clear. Perfect. Very good. Ok, well, listen. we can stop here. I tried to do a return at the end of the week, Victor Massimilian, at least with this diversity, with results on each control we have done. To have for the control of under UV, if we manage to detect, if we manage to see the UV, if Victor does not forget, please share the dream, and if we can detect the if we can see the if Victor does not forget to please share the dream which dream of the pubic lamp if I want to I will try to give you that in the day when we move on Very well. And I'll see you at the end of the week.\n",
      "(2186.0, 2188.0)--> No worries. It's great.\n",
      "(2191.0, 2193.0)--> Thank you all.\n",
      "(2193.0, 2194.0)--> Thank you.\n",
      "(2194.0, 2196.0)--> See you soon.\n",
      "(2196.0, 2197.0)--> See you soon.\n",
      "(2197.0, 2198.0)--> Bye.\n",
      "(2199.0, 2200.0)--> Thank you for the day.\n",
      "(2200.0, 2201.0)--> Thank you.\n",
      "(2201.0, 2202.0)--> Good day.\n",
      "(2202.0, 2486.0)--> We'll see each other in the evening. Thanks, I'm going to go to the other side of the building. and The first floor is the first floor of the building. The second floor is the first floor of the building. The third floor is the first floor of the building. The fourth floor is the first floor of the building. The fourth floor is the first floor of the building. The fifth floor is the first floor of the building. The fifth floor is the first floor of the building. The fifth floor is the first floor of the building. The fifth floor is the first floor of the building. The fifth floor is the first floor of the building. The fifth floor is the first floor of the building. The fifth floor is the first floor of the building. The fifth floor is the first floor of the building. The fifth floor is the first floor of the building. Thank you for watching! The The first floor is the same as the second floor. and The first step is to make a circle. The This image, I can't remember exactly what it is. It's an extremely large object. It detected the object there. Does it detect it there? Yes, it does. It's a very limited area. It's limited, it's a very limited area. It's a very limited area. In fact, we detected this. It's a very limited area. I'm not sure if it's a picture of a person with a different image. I don't know what you want, it's simple to be represented in particular for the images. I think that just to, for example, to the images, I'm not sure. Ok. I'm not sure how to do that. I'm not sure how to do that. I'm just looking for the image. I'm looking for the image of the image. I'm sure for your number.\n",
      "(2488.0, 2489.0)--> I'm sure it will work.\n",
      "(2832.0, 2834.0)--> It will be the first step of the second step. The first step is to make the first step of the second step. The first step is to make the first step of the second step. The first step is to make the first step of the second step. The first step is to make the first step of the second step. Thank you for watching! I'm going package for you. So, you have a request for the presentation? The request? Yes. Ah, ok. So, why is it not working? I don't have a language, I think I have a package for you. So, you have a request for the presentation? Yes, I have a request for the presentation. So, what is the presentation? The exhibition? Yes. Ah, ok. So, you have a request for the presentation? Yes, I have a request that my approach was... I don't know if I'm going to be a burden. I don't know what you're saying. I don't think you're going to be a burden. I think that... I think that it's a good thing. I'm actually doing it. David, for the moment... I'm the last one. I'm the last one. The last one is a good one. They said on version of the Thank you. Thank you. It's true that there are some small things to be able to handle easily the problems that arise. Otherwise, I'm going to have a little bit of a break. If the virtual interface. Wait a minute, I'll tell you. So, on the other hand, Pokioki is here. He wants to install Pokioki. And in his package, Pokioki doesn holes. Because when I install it, it tells me that the pocket key depends on the pocket key 0.2. So I think the pocket key, you will install the package, so you can understand the code code that you have already written. Yes, but I will do the test with the camera. There is a good little fabric that I want to use. I will tell you. Not very normal, but I think it's good. Thank you. The and and I'm not sure if it's a good idea to do this, but I'm not sure. I'm not sure. I'm not sure. I'm not sure. I'm not sure. I'm not sure there, you're there, you're there, you're there, you're there, you're there, you're there, you're there, you're there, you're there, you're there, you're there, you're there, you're there, you're there, you're there, you're there, you're there, you're there, you're there, you're there, you're there, you're there, you're there, you're there, you're there, you're there, you're there, you're there, you're there, you're there, you're there, you're there, you're there, you're there, you're there, you're there, you're there, you're there, you're there, you're there, you're there, you're there, you're there, you're there, you're there, you're there, you're there, you're there, you're there, you're there, you're there, you're there, you're there, you're there, you're there, you're there, you're there, you're there, you're there, you're there, you're there, you're there, you're there, you're there, you're there, you're there, you're there, you're there, you're there, you're there, you're there, you're there, you're there, you're there, you're there, you're there, you're there, you're there, you're there, you're there, you're there, you're there, you're there, you're there, you're there, you're there, you're there, you're there, you're there, you're there, you're there, you're there, you're there, you're there, you're there, you're there, you're there, you're there, you're there, you're there, you're there It's a miracle. I'm going to tell him. I'm going to wait for him.\n",
      "(2840.0, 2842.0)--> It's the 0.2...\n",
      "(2842.0, 2844.0)--> What?\n",
      "(2844.0, 2926.0)--> It's on the left. the The point is that it is made of different pan-kitsch. Is it made of batteries? I don't know how how does it feel? It's very good. It depends on what you do. With the D9, I have a feeling that it will be a good experience. I don't know if it worked well or not. Because the working well when you put it on. So you have to change the batteries. These are batteries, batteries are non-rechargeable. Yes, it's not critical. You have to change them. I can test them on the phone. I can test them\n",
      "(2926.0, 2928.0)--> I can test them\n",
      "(2928.0, 2930.0)--> Bravo\n",
      "(2934.0, 2937.0)--> I don't want to change the pin\n",
      "(2937.0, 2942.0)--> I asked them in the oven\n",
      "(2942.0, 2947.2)--> They don't have anything here They don't have money to raise us.\n",
      "(2951.2, 2954.2)--> So for the rest of the piles, we'll need one year.\n",
      "(2954.2, 3066.0)--> We'll need to make one or two screws. Yes, I have finished. and I think it's a good idea to go to the next room and see what's going on. I'm going to go to the next room and see what's going on. I'm going to go to the next room and see what's going on. I'm going to go to the next room and see what's going on. I'm going to go to the next room and see what's going on. I'm going to go to the next room and see what's going on. I think it's a good thing. And you recharge it young. You don't recharge it young. No, it's not the case. You have to recharge it. You can ask them to buy it. They will buy it. They will buy it. I know that Céline will buy batteries, like smoke detectors, smoke cells,\n",
      "(3066.0, 3062.0)--> she will buy them soon. Maybe you can profit from it, to ask for the first Céline. But in quantity, for the others. Except if the party is good. Is it good, next? What's wrong with you? I'm here\n",
      "(3062.0, 3064.0)--> I'm here\n",
      "(3064.0, 3066.0)--> Did you see the storm?\n",
      "(3066.0, 3185.0)--> Did you see it? What's wrong with you? I'm going to put you in the mood. I'm going to look for a job. You're a genius. I have a job. I already have a job. I'm not going to be in a whole immersion. I'm going to talk to Carlos. You can go to the gym. I'm going to sit down. You can go to the studio Oh, I'm going to the studio No, I'm going here too Come on, look Come on, come on Come on, come on Come on, come on Come on, come on It's not very reassuring It's the guy who didn't have to go to the gym? I want to do it quickly. She's got a lot of pressure. Do you understand? You don the Maghreb? I can tell you the Maghreb Maghreb The Maghreb of Canard Wow, totally different Maybe I'm a little bit... But you weren't paid for it, it's not bad What is this, I think you heardD cut-off? It's an observation of the second of the general.\n",
      "(3185.0, 3186.0)--> Really?\n",
      "(3189.0, None)--> Ok. The Thank you. I'm not sure if I can do it. I'm not sure. I'm not sure. I'm not sure. I'm not sure. I'm not sure. I'm not sure. I'm not sure. I'm not sure. I'm not sure. I'm not sure. I'm not sure. I'm not sure. I'm not, I'm sorry. I'm sorry. I'm sorry. I'm sorry. I'm sorry. I'm sorry. I'm sorry. I'm sorry. I'm sorry. I'm sorry. I'm sorry. I'm sorry. I'm sorry. I'm sorry. show you the way to do it. I can't believe it! and and and and and I'm going to put the tape on the wall. and The The first floor is the same as the second floor. The The I'm going to put the camera on the table. and and I'm going to go to the bathroom. The first time I saw the first time I saw the first time I saw the first time I saw the first time I saw the first time I saw the first time I saw the first time I saw the first time I saw the first time I saw the first time I saw the first time I saw the first time I saw the first time I saw the first time I saw the first time I saw the first time I saw the first time I saw the first time I saw the first time I saw the first time I saw the first time I saw the first time I saw the first time I saw the first time I saw the first time I saw the first time I saw the first time I saw the first time I saw the first time I saw the first time I saw the first time I saw the first time I saw the first time I saw the first time I saw the first time I saw the first time I saw the first time I saw the first time I saw the first time I saw the first time I saw the first time I saw the first time I saw the first time I saw the first time I saw the first time I saw the first time I saw the first time I saw the first time I saw the first time I saw the first time I saw the first time I saw the first time I saw the first time I saw the first time I saw the first time I saw the first time I saw the first time I saw the first time I saw the first time I saw the first time I saw the first time I saw the first time I saw the first time I saw the first time I saw the first time I saw the first time I saw the first time I saw the first time I saw the first time I saw the first time I saw the first time I saw the first time I saw the first time I saw the first time I saw the first time I saw the first time I saw the first time I saw the first time I saw the first time I saw the first time I saw the first time I saw the first time I saw the first time I saw the first time I saw the first time I saw the first time I saw the first time I saw the first one. and and and The The first floor is the bit of the same thing. The first step is to make the first step of the second step. The first step is to make the first step of the second step. The first step is to make the first step of the second step. The first step is to make the first step of the second step. The first step is to make the first step of the second step. Thank you for watching! The The I'm going to take a picture of the first one and then I'm going to take a picture of the second one and then I'm going to take a picture of the third one and then I'm going to take a picture of the fourth one I'm going to put it on the table. Thank you.\n"
     ]
    }
   ],
   "source": [
    "transcription = pipe(\"Recording 2.flac\" )\n",
    "#Once the transcription is complete, we’ll format the text with timestamps for better readability.\n",
    "formatted_lyrics = \"\"\n",
    "for line in transcription['chunks']:\n",
    "    text = line[\"text\"]\n",
    "    ts = line[\"timestamp\"]\n",
    "    formatted_lyrics += f\"{ts}-->{text}\\n\"\n",
    "\n",
    "print(formatted_lyrics.strip())"
   ]
  },
  {
   "cell_type": "code",
   "execution_count": 9,
   "metadata": {},
   "outputs": [
    {
     "name": "stdout",
     "output_type": "stream",
     "text": [
      "Transcription saved to transcription.txt\n"
     ]
    }
   ],
   "source": [
    "# Let’s also save the transcription to a text file so we can use it later!\"\n",
    "with open(\"transcription.txt\", \"w\", encoding=\"utf-8\") as file:\n",
    "    file.write(formatted_lyrics.strip())\n",
    "\n",
    "print(\"Transcription saved to transcription.txt\")"
   ]
  },
  {
   "cell_type": "markdown",
   "metadata": {},
   "source": [
    "# SUMMARIZING WITH LLAMA\n",
    "Now, let’s take it a step further! We’ll use Meta’s LLaMA model to summarize the transcript. For this, we need the Llama-3.2-3B-Instruct model."
   ]
  },
  {
   "cell_type": "code",
   "execution_count": 10,
   "metadata": {},
   "outputs": [
    {
     "data": {
      "application/vnd.jupyter.widget-view+json": {
       "model_id": "b861feec048f47cca9633b8225de381c",
       "version_major": 2,
       "version_minor": 0
      },
      "text/plain": [
       "Loading checkpoint shards:   0%|          | 0/2 [00:00<?, ?it/s]"
      ]
     },
     "metadata": {},
     "output_type": "display_data"
    }
   ],
   "source": [
    "DEFAULT_MODEL = \"meta-llama/Llama-3.2-3B-Instruct\"\n",
    "\n",
    "\n",
    "model = AutoModelForCausalLM.from_pretrained(\n",
    "    DEFAULT_MODEL,\n",
    "    torch_dtype=torch.bfloat16,\n",
    "    use_safetensors=True,\n",
    "    device_map=device,\n",
    ")\n",
    "\n",
    "tokenizer = AutoTokenizer.from_pretrained(DEFAULT_MODEL, use_safetensors=True)\n",
    "tokenizer.pad_token_id = tokenizer.eos_token_id"
   ]
  },
  {
   "cell_type": "markdown",
   "metadata": {},
   "source": [
    "We’ll define a conversation prompt instructing LLaMA to summarize the meeting transcript in simple English."
   ]
  },
  {
   "cell_type": "code",
   "execution_count": 12,
   "metadata": {},
   "outputs": [
    {
     "name": "stderr",
     "output_type": "stream",
     "text": [
      "Setting `pad_token_id` to `eos_token_id`:128001 for open-end generation.\n"
     ]
    },
    {
     "name": "stdout",
     "output_type": "stream",
     "text": [
      "assistant\n",
      "\n",
      "The provided text appears to be a transcript of a meeting between multiple individuals, including Maximilian Moro, Carlos, and others. The meeting seems to be discussing various topics, including:\n",
      "\n",
      "1. **Control and inspection of components**: The group discusses the importance of controlling and inspecting components, particularly in the context of a map or a system. They talk about the need for a camera to capture images of the components and the importance of aligning them.\n",
      "2. **Camera setup and testing**: The group discusses the setup and testing of cameras, including the use of different types of cameras and the importance of testing for parallelism and alignment.\n",
      "3. **Image processing and analysis**: The group talks about the need for image processing and analysis, including the use of software to detect defects and anomalies in the images.\n",
      "4. **Feasibility studies**: The group discusses the importance of feasibility studies, including the creation of a set of images for each control and the testing of these images to determine the conditions of success.\n",
      "5. **Camera placement and ergonomics**: The group talks about the importance of camera placement and ergonomics, including the need to position cameras to capture the best images and to reduce the risk of errors.\n",
      "6. **Camera calibration and maintenance**: The group discusses the importance of camera calibration and maintenance, including the need to change batteries and perform regular checks on the cameras.\n",
      "7. **Image quality and resolution**: The group talks about the importance of image quality and resolution, including the need to capture high-quality images to ensure accurate inspection and analysis.\n",
      "8. **Labeling and annotation**: The group discusses the importance of labeling and annotating images, including the need to clearly label and identify components and defects.\n",
      "\n",
      "Some specific points mentioned in the transcript include:\n",
      "\n",
      "* The need to use a camera with a good resolution to capture high-quality images\n",
      "* The importance of aligning images to ensure accurate inspection and analysis\n",
      "* The need to test cameras for parallelism and alignment\n",
      "* The importance of feasibility studies to determine the conditions of success for each control\n",
      "* The need to position cameras to capture the best images and reduce the risk of errors\n",
      "* The importance of regular camera calibration and maintenance\n",
      "* The need to clearly label and annotate images to ensure accurate inspection and analysis\n",
      "\n",
      "Overall, the meeting appears to be focused on improving the inspection and analysis process using cameras and image processing techniques, and ensuring that the cameras are properly set up and maintained to capture high-quality images.\n"
     ]
    }
   ],
   "source": [
    "conversation = [\n",
    "    {\"role\": \"system\", \"content\": ''' Write a detailed summary of the meeting transcript'''},\n",
    "    {\"role\": \"user\", \"content\": f'''{formatted_lyrics.strip()}'''},\n",
    "]\n",
    "\n",
    "prompt = tokenizer.apply_chat_template(conversation, tokenize=False)\n",
    "inputs = tokenizer(prompt, return_tensors=\"pt\").to(device)\n",
    "# print(prompt)\n",
    "\n",
    "with torch.no_grad():\n",
    "    output = model.generate(\n",
    "        **inputs,\n",
    "        do_sample=True,\n",
    "        max_new_tokens=1000\n",
    "    )\n",
    "\n",
    "processed_text = tokenizer.decode(output[0][len(inputs.input_ids[0]):], skip_special_tokens=True)\n",
    "\n",
    "print(processed_text)"
   ]
  },
  {
   "cell_type": "markdown",
   "metadata": {},
   "source": [
    "The provided text appears to be a transcript of a meeting between multiple individuals, including Maximilian Moro, Carlos, and others. The meeting seems to be discussing various topics, including:\n",
    "\n",
    "1. **Control and inspection of components**: The group discusses the importance of controlling and inspecting components, particularly in the context of a map or a system. They talk about the need for a camera to capture images of the components and the importance of aligning them.\n",
    "2. **Camera setup and testing**: The group discusses the setup and testing of cameras, including the use of different types of cameras and the importance of testing for parallelism and alignment.\n",
    "3. **Image processing and analysis**: The group talks about the need for image processing and analysis, including the use of software to detect defects and anomalies in the images.\n",
    "4. **Feasibility studies**: The group discusses the importance of feasibility studies, including the creation of a set of images for each control and the testing of these images to determine the conditions of success.\n",
    "5. **Camera placement and ergonomics**: The group talks about the importance of camera placement and ergonomics, including the need to position cameras to capture the best images and to reduce the risk of errors.\n",
    "6. **Camera calibration and maintenance**: The group discusses the importance of camera calibration and maintenance, including the need to change batteries and perform regular checks on the cameras.\n",
    "7. **Image quality and resolution**: The group talks about the importance of image quality and resolution, including the need to capture high-quality images to ensure accurate inspection and analysis.\n",
    "8. **Labeling and annotation**: The group discusses the importance of labeling and annotating images, including the need to clearly label and identify components and defects.\n",
    "\n",
    "Some specific points mentioned in the transcript include:\n",
    "\n",
    "* The need to use a camera with a good resolution to capture high-quality images\n",
    "* The importance of aligning images to ensure accurate inspection and analysis\n",
    "* The need to test cameras for parallelism and alignment\n",
    "* The importance of feasibility studies to determine the conditions of success for each control\n",
    "* The need to position cameras to capture the best images and reduce the risk of errors\n",
    "* The importance of regular camera calibration and maintenance\n",
    "* The need to clearly label and annotate images to ensure accurate inspection and analysis\n",
    "\n",
    "Overall, the meeting appears to be focused on improving the inspection and analysis process using cameras and image processing techniques, and ensuring that the cameras are properly set up and maintained to capture high-quality images."
   ]
  }
 ],
 "metadata": {
  "kernelspec": {
   "display_name": "torch_env",
   "language": "python",
   "name": "python3"
  },
  "language_info": {
   "codemirror_mode": {
    "name": "ipython",
    "version": 3
   },
   "file_extension": ".py",
   "mimetype": "text/x-python",
   "name": "python",
   "nbconvert_exporter": "python",
   "pygments_lexer": "ipython3",
   "version": "3.12.2"
  }
 },
 "nbformat": 4,
 "nbformat_minor": 2
}
