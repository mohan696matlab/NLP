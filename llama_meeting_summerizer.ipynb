{
 "cells": [
  {
   "cell_type": "markdown",
   "metadata": {},
   "source": [
    "First, we need to install the Hugging Face Transformers library, which gives us access to state-of-the-art speech and language models. If you haven’t installed it yet, run:\n",
    "\n",
    "```\n",
    "pip install transformers torch\n",
    "```"
   ]
  },
  {
   "cell_type": "markdown",
   "metadata": {},
   "source": [
    "Now, let’s import the necessary libraries and set up our device for computation. If you have a GPU, the code will automatically use it for better performance!"
   ]
  },
  {
   "cell_type": "markdown",
   "metadata": {},
   "source": [
    "## Transcribing mp3 file to numpy requires the FFmpeg. Follow the steps in this link to have it installed. [(How to install FFmpeg in windows)](https://www.wikihow.com/Install-FFmpeg-on-Windows)"
   ]
  },
  {
   "cell_type": "code",
   "execution_count": 1,
   "metadata": {},
   "outputs": [],
   "source": [
    "from transformers import pipeline,AutoModelForCausalLM, AutoTokenizer\n",
    "import torch\n",
    "from IPython.display import  clear_output\n",
    "\n",
    "\n",
    "device = 'cuda' if torch.cuda.is_available() else 'cpu'"
   ]
  },
  {
   "cell_type": "markdown",
   "metadata": {},
   "source": [
    "# SPEECH-TO-TEXT WITH WHISPER"
   ]
  },
  {
   "cell_type": "markdown",
   "metadata": {},
   "source": [
    "# If MP4 (or other video format) convert to MP3"
   ]
  },
  {
   "cell_type": "code",
   "execution_count": null,
   "metadata": {},
   "outputs": [
    {
     "name": "stderr",
     "output_type": "stream",
     "text": [
      "ffmpeg version 4.4.2-0ubuntu0.22.04.1 Copyright (c) 2000-2021 the FFmpeg developers\n",
      "  built with gcc 11 (Ubuntu 11.2.0-19ubuntu1)\n",
      "  configuration: --prefix=/usr --extra-version=0ubuntu0.22.04.1 --toolchain=hardened --libdir=/usr/lib/x86_64-linux-gnu --incdir=/usr/include/x86_64-linux-gnu --arch=amd64 --enable-gpl --disable-stripping --enable-gnutls --enable-ladspa --enable-libaom --enable-libass --enable-libbluray --enable-libbs2b --enable-libcaca --enable-libcdio --enable-libcodec2 --enable-libdav1d --enable-libflite --enable-libfontconfig --enable-libfreetype --enable-libfribidi --enable-libgme --enable-libgsm --enable-libjack --enable-libmp3lame --enable-libmysofa --enable-libopenjpeg --enable-libopenmpt --enable-libopus --enable-libpulse --enable-librabbitmq --enable-librubberband --enable-libshine --enable-libsnappy --enable-libsoxr --enable-libspeex --enable-libsrt --enable-libssh --enable-libtheora --enable-libtwolame --enable-libvidstab --enable-libvorbis --enable-libvpx --enable-libwebp --enable-libx265 --enable-libxml2 --enable-libxvid --enable-libzimg --enable-libzmq --enable-libzvbi --enable-lv2 --enable-omx --enable-openal --enable-opencl --enable-opengl --enable-sdl2 --enable-pocketsphinx --enable-librsvg --enable-libmfx --enable-libdc1394 --enable-libdrm --enable-libiec61883 --enable-chromaprint --enable-frei0r --enable-libx264 --enable-shared\n",
      "  libavutil      56. 70.100 / 56. 70.100\n",
      "  libavcodec     58.134.100 / 58.134.100\n",
      "  libavformat    58. 76.100 / 58. 76.100\n",
      "  libavdevice    58. 13.100 / 58. 13.100\n",
      "  libavfilter     7.110.100 /  7.110.100\n",
      "  libswscale      5.  9.100 /  5.  9.100\n",
      "  libswresample   3.  9.100 /  3.  9.100\n",
      "  libpostproc    55.  9.100 / 55.  9.100\n",
      "Input #0, mov,mp4,m4a,3gp,3g2,mj2, from '2025-03-15 10-36-27.mp4':\n",
      "  Metadata:\n",
      "    major_brand     : isom\n",
      "    minor_version   : 512\n",
      "    compatible_brands: isomiso2avc1mp41\n",
      "    encoder         : Lavf58.76.100\n",
      "  Duration: 00:12:34.45, start: 0.000000, bitrate: 595 kb/s\n",
      "  Stream #0:0(und): Video: h264 (High) (avc1 / 0x31637661), yuv420p(tv, bt709), 1920x1080 [SAR 1:1 DAR 16:9], 390 kb/s, 60 fps, 60 tbr, 15360 tbn, 120 tbc (default)\n",
      "    Metadata:\n",
      "      handler_name    : VideoHandler\n",
      "      vendor_id       : [0][0][0][0]\n",
      "  Stream #0:1(und): Audio: aac (LC) (mp4a / 0x6134706D), 48000 Hz, mono, fltp, 192 kb/s (default)\n",
      "    Metadata:\n",
      "      handler_name    : SoundHandler\n",
      "      vendor_id       : [0][0][0][0]\n",
      "Stream mapping:\n",
      "  Stream #0:1 -> #0:0 (aac (native) -> mp3 (libmp3lame))\n",
      "Press [q] to stop, [?] for help\n",
      "Output #0, mp3, to 'output.mp3':\n",
      "  Metadata:\n",
      "    major_brand     : isom\n",
      "    minor_version   : 512\n",
      "    compatible_brands: isomiso2avc1mp41\n",
      "    TSSE            : Lavf58.76.100\n",
      "  Stream #0:0(und): Audio: mp3, 48000 Hz, mono, fltp, 192 kb/s (default)\n",
      "    Metadata:\n",
      "      handler_name    : SoundHandler\n",
      "      vendor_id       : [0][0][0][0]\n",
      "      encoder         : Lavc58.134.100 libmp3lame\n",
      "size=   15104kB time=00:10:53.85 bitrate= 189.2kbits/s speed= 145x    \r"
     ]
    },
    {
     "name": "stdout",
     "output_type": "stream",
     "text": [
      "Conversion successful: output.mp3\n"
     ]
    },
    {
     "name": "stderr",
     "output_type": "stream",
     "text": [
      "size=   17682kB time=00:12:34.34 bitrate= 192.0kbits/s speed= 145x    \n",
      "video:0kB audio:17681kB subtitle:0kB other streams:0kB global headers:0kB muxing overhead: 0.003999%\n"
     ]
    }
   ],
   "source": [
    "import subprocess\n",
    "\n",
    "def convert_mp4_to_mp3(input_file, output_file):\n",
    "    \"\"\"Convert an MP4 file to MP3 using ffmpeg.\"\"\"\n",
    "    try:\n",
    "        command = [\n",
    "            \"ffmpeg\",\n",
    "            \"-i\", input_file,    # Input file\n",
    "            \"-vn\",               # No video\n",
    "            \"-acodec\", \"libmp3lame\",  # MP3 codec\n",
    "            \"-b:a\", \"192k\",      # Audio bitrate\n",
    "            output_file          # Output file\n",
    "        ]\n",
    "        subprocess.run(command, check=True)\n",
    "        print(f\"Conversion successful: {output_file}\")\n",
    "    except subprocess.CalledProcessError as e:\n",
    "        print(f\"Error during conversion: {e}\")\n",
    "\n",
    "# Example usage\n",
    "convert_mp4_to_mp3(\"meeting.mp4\", \"meeting.mp3\")\n"
   ]
  },
  {
   "cell_type": "markdown",
   "metadata": {},
   "source": [
    "Next, we’ll use OpenAI’s Whisper model to transcribe an audio file. We’re using the whisper-small model for efficiency, but you can switch to whisper-large for better accuracy."
   ]
  },
  {
   "cell_type": "code",
   "execution_count": 2,
   "metadata": {},
   "outputs": [],
   "source": [
    "pipe  = pipeline(\"automatic-speech-recognition\",\n",
    "                    \"openai/whisper-small\", \n",
    "                    chunk_length_s=30,\n",
    "                    stride_length_s=5,\n",
    "                    return_timestamps=True,\n",
    "                    device=device, \n",
    "                    generate_kwargs = {\"language\": 'Hindi', \"task\": \"translate\"}) "
   ]
  },
  {
   "cell_type": "markdown",
   "metadata": {},
   "source": [
    "Now, let’s process an audio file. The model will transcribe and translate it into English.\""
   ]
  },
  {
   "cell_type": "code",
   "execution_count": 3,
   "metadata": {},
   "outputs": [
    {
     "name": "stderr",
     "output_type": "stream",
     "text": [
      "c:\\Users\\User\\miniconda3\\envs\\torch_env\\Lib\\site-packages\\transformers\\models\\whisper\\generation_whisper.py:509: FutureWarning: The input name `inputs` is deprecated. Please make sure to use `input_features` instead.\n",
      "  warnings.warn(\n",
      "You have passed task=translate, but also have set `forced_decoder_ids` to [[1, None], [2, 50359]] which creates a conflict. `forced_decoder_ids` will be ignored in favor of task=translate.\n",
      "The attention mask is not set and cannot be inferred from input because pad token is same as eos token. As a consequence, you may observe unexpected behavior. Please pass your input's `attention_mask` to obtain reliable results.\n"
     ]
    },
    {
     "name": "stdout",
     "output_type": "stream",
     "text": [
      "(0.0, 5.5)--> Do you think India will grow at the speed with China growth?\n",
      "(5.5, 10.0)--> I don't think China grew at the speed that it grew. I think it has a lot of data.\n",
      "(10.0, 26.6)--> I am pretty sure they didn't grow at the rate that they grew because had they done so then they wouldn't have had the range of social and economic problems they are currently facing. But people say that in the 70s, India was the same as China.\n",
      "(26.6, 29.6)--> And now today, look at China's economy versus India's economy.\n",
      "(29.6, 31.4)--> So, people have definitely grown up.\n",
      "(31.4, 32.9)--> People say a lot.\n",
      "(32.9, 41.6)--> What people don't realise is that the British ravaged India to a greater extent than they\n",
      "(41.6, 46.48)--> ravaged East Asia, Southeast Asia.\n",
      "(51.48, 52.92)--> And therefore the journey that India had to traverse through the 50s and 60s was a far more demanding journey.\n",
      "(53.56, 56.84)--> It is through the Deng shopping opened up China in 78-79.\n",
      "(56.84, 60.4)--> And obviously they benefited from the liberalization and, you know,\n",
      "(60.4, 64.4)--> all credit to the Chinese Communist leadership for embracing the free market model.\n",
      "(64.4, 69.6)--> Right. One of the most radical jumps in thorns that I have seen in my life.\n",
      "(71.12, 75.36)--> But I think the journey that we have traveled since 91, since 91 from the day we opened up,\n",
      "(76.4, 91.12)--> from then till now, if you look at the data, no country in the world has actually grown faster than us. Not even China on a GDP per capita basis. I think\n",
      "(91.12, 98.0)--> per capita China is a little ahead. But 91 to now, what we have pulled off is pretty remarkable.\n",
      "(98.0, 113.0)--> And remember we have done this against severe odds in terms of going into that 91 period at a lower per capita income than China went into at 78.\n",
      "(113.0, 126.68)--> So, yes, China and us in the 70s were same and then they took off. China's model has frailties that I think our model doesn't have.\n",
      "(126.68, 131.96)--> And TN99's very good book is Totoist vs Hair.\n",
      "(131.96, 134.68)--> I think while some people might think we are the Totoist.\n",
      "(134.68, 138.44)--> 4 years ago everyone said that Totoist is completely ruined.\n",
      "(138.44, 140.24)--> China used to do China-China.\n",
      "(140.24, 144.52)--> In the last 4-5 years China's economy has gone a little bad.\n",
      "(144.52, 145.0)--> It's a little bit smart.\n",
      "(145.0, 150.0)--> Their achievements are remarkable, especially on the technology front.\n",
      "(150.0, 155.0)--> For a country in the space of one generation to catch up with the west on technology is remarkable.\n",
      "(155.0, 163.0)--> But by the same token, our achievements on both the IT services front and the cultural front are remarkable.\n",
      "(163.0, 170.0)--> Don't underestimate the power of the fact that a lot of their identity, they have assimilated with the West.\n",
      "(170.0, 175.0)--> And I still don't fully understand why it was so ancient.\n",
      "(175.0, 183.0)--> How come they gave up their apparel, this clothing, their design for Western designs?\n",
      "(183.0, 186.48)--> I don't fully understand. We've held on to that\n",
      "(186.48, 192.8)--> and it will, Indio course, help us. How do you help? If you maintain identity, right? Identities\n",
      "(192.8, 200.24)--> at the core of a lot of human human civilizations also identities at the core of your belief system.\n",
      "(200.8, 207.56)--> Right? Because when under duress, in your people's darkest hours, you go back to your identity.\n",
      "(207.56, 213.52)--> If you're if a civilization, if a country, if a people can hold on to their identity, I think it\n",
      "(213.52, 220.16)--> says a lot about the way in which they can operate in the in the wide world, right? So why\n",
      "(220.16, 229.08)--> who I don't understand, I'm sure that sure anthropologists have looked into this. Maybe the cultural revolution of Mao, the China's revolution,\n",
      "(229.08, 231.68)--> had some kind of identity.\n",
      "(231.68, 233.4)--> That is the first chance they said,\n",
      "(233.4, 236.16)--> let's go to our own clothes, let's westernize.\n",
      "(236.16, 237.84)--> We haven't done that.\n",
      "(237.84, 241.12)--> And I think that has implications for our future.\n",
      "(241.12, 244.64)--> More importantly, the financial system has been destroyed.\n",
      "(244.64, 249.84)--> It hasn't been affected by us. Their environmental\n",
      "(249.84, 256.28)--> degradation is both unquantified and legendary and whilst we mourn about air pollution, my\n",
      "(256.28, 260.96)--> reading is that the polluted soil and water to extend in China that we don't think we\n",
      "(260.96, 267.76)--> have yet done. So there are different dimensions to this. Kudos to\n",
      "(267.76, 275.52)--> the Communist Party in China for embracing free market. We've done a reasonable job. We can do\n",
      "(275.52, 281.04)--> much better. But especially if you focus on Peninsular India. Thank you so much for watching this\n",
      "(281.04, 285.6)--> clip till the end. If you want to see more such clips, then subscribe to the Rajshamani\n",
      "(285.6, 287.2)--> Clips channel.\n"
     ]
    }
   ],
   "source": [
    "transcription = pipe(\"meeting.mp3\" )\n",
    "#Once the transcription is complete, we’ll format the text with timestamps for better readability.\n",
    "formatted_lyrics = \"\"\n",
    "for line in transcription['chunks']:\n",
    "    text = line[\"text\"]\n",
    "    ts = line[\"timestamp\"]\n",
    "    formatted_lyrics += f\"{ts}-->{text}\\n\"\n",
    "\n",
    "print(formatted_lyrics.strip())"
   ]
  },
  {
   "cell_type": "code",
   "execution_count": 5,
   "metadata": {},
   "outputs": [
    {
     "name": "stdout",
     "output_type": "stream",
     "text": [
      "Transcription saved to transcription.txt\n"
     ]
    }
   ],
   "source": [
    "# Let’s also save the transcription to a text file so we can use it later!\"\n",
    "with open(\"transcription.txt\", \"w\", encoding=\"utf-8\") as file:\n",
    "    file.write(formatted_lyrics.strip())\n",
    "\n",
    "print(\"Transcription saved to transcription.txt\")"
   ]
  },
  {
   "cell_type": "markdown",
   "metadata": {},
   "source": [
    "# SUMMARIZING WITH LLAMA\n",
    "Now, let’s take it a step further! We’ll use Meta’s LLaMA model to summarize the transcript. For this, we need the Llama-3.2-3B-Instruct model."
   ]
  },
  {
   "cell_type": "code",
   "execution_count": 6,
   "metadata": {},
   "outputs": [
    {
     "data": {
      "application/vnd.jupyter.widget-view+json": {
       "model_id": "295e4a72a5f6400e854bba5d4e43ce96",
       "version_major": 2,
       "version_minor": 0
      },
      "text/plain": [
       "Loading checkpoint shards:   0%|          | 0/2 [00:00<?, ?it/s]"
      ]
     },
     "metadata": {},
     "output_type": "display_data"
    }
   ],
   "source": [
    "DEFAULT_MODEL = \"meta-llama/Llama-3.2-3B-Instruct\"\n",
    "\n",
    "\n",
    "model = AutoModelForCausalLM.from_pretrained(\n",
    "    DEFAULT_MODEL,\n",
    "    torch_dtype=torch.bfloat16,\n",
    "    use_safetensors=True,\n",
    "    device_map=device,\n",
    ")\n",
    "\n",
    "tokenizer = AutoTokenizer.from_pretrained(DEFAULT_MODEL, use_safetensors=True)\n",
    "tokenizer.pad_token_id = tokenizer.eos_token_id"
   ]
  },
  {
   "cell_type": "markdown",
   "metadata": {},
   "source": [
    "We’ll define a conversation prompt instructing LLaMA to summarize the meeting transcript in simple English."
   ]
  },
  {
   "cell_type": "code",
   "execution_count": 7,
   "metadata": {},
   "outputs": [
    {
     "name": "stderr",
     "output_type": "stream",
     "text": [
      "Setting `pad_token_id` to `eos_token_id`:128001 for open-end generation.\n"
     ]
    },
    {
     "name": "stdout",
     "output_type": "stream",
     "text": [
      "assistant\n",
      "\n",
      "**Meeting Minutes**\n",
      "\n",
      "**Attendees:** N/A\n",
      "\n",
      "**Date:** N/A\n",
      "\n",
      "**Topic:** India's Economic Growth and Comparison with China\n",
      "\n",
      "**Key Points:**\n",
      "\n",
      "1. The speaker discusses the economic growth of India and China, stating that India's growth has been remarkable despite facing severe odds, including a lower per capita income when India opened up in 1991.\n",
      "2. The speaker highlights the differences between India and China's economic models, noting that China's model has frailties that India's model does not have.\n",
      "3. The speaker praises China's achievements in technology, but notes that India's achievements in IT services and cultural identity are also significant.\n",
      "4. The speaker questions why China was able to assimilate with the West so quickly, and attributes this to the Cultural Revolution and the Chinese Communist Party's decision to westernize.\n",
      "5. The speaker emphasizes the importance of holding onto one's identity and cultural heritage, citing this as a key factor in a country's success.\n",
      "6. The speaker criticizes India's financial system for being destroyed, and notes that environmental degradation in China is a significant concern.\n",
      "7. The speaker concludes that India can do better and praises the Communist Party in China for embracing free market principles.\n",
      "\n",
      "**Action Items:** None\n",
      "\n",
      "**Next Steps:** N/A\n",
      "\n",
      "**Conclusion:** The meeting discussed India's economic growth and comparison with China, highlighting the differences between their economic models and the importance of cultural identity in a country's success.\n"
     ]
    }
   ],
   "source": [
    "conversation = [\n",
    "    {\"role\": \"system\", \"content\": ''' Write the minutes of this meeting transcript in simple and precise English.'''},\n",
    "    {\"role\": \"user\", \"content\": f'''{formatted_lyrics.strip()}'''},\n",
    "]\n",
    "\n",
    "prompt = tokenizer.apply_chat_template(conversation, tokenize=False)\n",
    "inputs = tokenizer(prompt, return_tensors=\"pt\").to(device)\n",
    "# print(prompt)\n",
    "\n",
    "with torch.no_grad():\n",
    "    output = model.generate(\n",
    "        **inputs,\n",
    "        do_sample=True,\n",
    "        max_new_tokens=1000\n",
    "    )\n",
    "\n",
    "processed_text = tokenizer.decode(output[0][len(inputs.input_ids[0]):], skip_special_tokens=True)\n",
    "\n",
    "print(processed_text)"
   ]
  },
  {
   "cell_type": "markdown",
   "metadata": {},
   "source": [
    "\n",
    "**Meeting Minutes**\n",
    "\n",
    "**Attendees:** N/A\n",
    "\n",
    "**Date:** N/A\n",
    "\n",
    "**Topic:** India's Economic Growth and Comparison with China\n",
    "\n",
    "**Key Points:**\n",
    "\n",
    "1. The speaker discusses the economic growth of India and China, stating that India's growth has been remarkable despite facing severe odds, including a lower per capita income when India opened up in 1991.\n",
    "2. The speaker highlights the differences between India and China's economic models, noting that China's model has frailties that India's model does not have.\n",
    "3. The speaker praises China's achievements in technology, but notes that India's achievements in IT services and cultural identity are also significant.\n",
    "4. The speaker questions why China was able to assimilate with the West so quickly, and attributes this to the Cultural Revolution and the Chinese Communist Party's decision to westernize.\n",
    "5. The speaker emphasizes the importance of holding onto one's identity and cultural heritage, citing this as a key factor in a country's success.\n",
    "6. The speaker criticizes India's financial system for being destroyed, and notes that environmental degradation in China is a significant concern.\n",
    "7. The speaker concludes that India can do better and praises the Communist Party in China for embracing free market principles.\n",
    "\n",
    "**Action Items:** None\n",
    "\n",
    "**Next Steps:** N/A\n",
    "\n",
    "**Conclusion:** The meeting discussed India's economic growth and comparison with China, highlighting the differences between their economic models and the importance of cultural identity in a country's success"
   ]
  }
 ],
 "metadata": {
  "kernelspec": {
   "display_name": "torch_env",
   "language": "python",
   "name": "python3"
  },
  "language_info": {
   "codemirror_mode": {
    "name": "ipython",
    "version": 3
   },
   "file_extension": ".py",
   "mimetype": "text/x-python",
   "name": "python",
   "nbconvert_exporter": "python",
   "pygments_lexer": "ipython3",
   "version": "3.11.10"
  }
 },
 "nbformat": 4,
 "nbformat_minor": 2
}
