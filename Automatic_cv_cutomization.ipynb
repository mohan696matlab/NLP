{
 "cells": [
  {
   "cell_type": "code",
   "execution_count": 85,
   "metadata": {},
   "outputs": [
    {
     "data": {
      "application/vnd.jupyter.widget-view+json": {
       "model_id": "88b11ec9fdf84f6fa4a329ba9c1443bb",
       "version_major": 2,
       "version_minor": 0
      },
      "text/plain": [
       "Loading checkpoint shards:   0%|          | 0/2 [00:00<?, ?it/s]"
      ]
     },
     "metadata": {},
     "output_type": "display_data"
    }
   ],
   "source": [
    "from transformers import AutoModelForCausalLM, AutoTokenizer\n",
    "import torch\n",
    "from IPython.display import  clear_output\n",
    "import time\n",
    "import PyPDF2\n",
    "from pathlib import Path\n",
    "from tqdm.auto import tqdm\n",
    "from typing import Optional\n",
    "from langchain.text_splitter import RecursiveCharacterTextSplitter\n",
    "\n",
    "device = 'cuda' if torch.cuda.is_available() else 'cpu'\n",
    "\n",
    "DEFAULT_MODEL = \"meta-llama/Llama-3.2-3B-Instruct\"\n",
    "\n",
    "\n",
    "model = AutoModelForCausalLM.from_pretrained(\n",
    "    DEFAULT_MODEL,\n",
    "    torch_dtype=torch.bfloat16,\n",
    "    use_safetensors=True,\n",
    "    device_map=device,\n",
    ")\n",
    "\n",
    "tokenizer = AutoTokenizer.from_pretrained(DEFAULT_MODEL, use_safetensors=True)\n",
    "tokenizer.pad_token_id = tokenizer.eos_token_id\n",
    "model.generation_config.pad_token_id = 128001"
   ]
  },
  {
   "cell_type": "code",
   "execution_count": 38,
   "metadata": {},
   "outputs": [],
   "source": [
    "# Helper function\n",
    "\n",
    "def llm_generate(messages, max_tokens=256,do_sample=False):\n",
    "    prompt = tokenizer.apply_chat_template(messages, tokenize=False)\n",
    "    inputs = tokenizer(prompt, return_tensors=\"pt\").to(device)\n",
    "    # print(prompt)\n",
    "\n",
    "    with torch.no_grad():\n",
    "        output = model.generate(\n",
    "            **inputs,\n",
    "            do_sample=do_sample,\n",
    "            max_new_tokens=max_tokens,\n",
    "        )\n",
    "\n",
    "    processed_text = tokenizer.decode(output[0][len(inputs.input_ids[0])+3:], skip_special_tokens=True)\n",
    "\n",
    "    return processed_text"
   ]
  },
  {
   "cell_type": "code",
   "execution_count": 45,
   "metadata": {},
   "outputs": [],
   "source": [
    "with open(\"resume_full.txt\", \"r\", encoding=\"utf-8\") as f:\n",
    "    raw_resume_text = f.read()"
   ]
  },
  {
   "cell_type": "code",
   "execution_count": 46,
   "metadata": {},
   "outputs": [],
   "source": [
    "from langchain.text_splitter import MarkdownHeaderTextSplitter,TokenTextSplitter,RecursiveCharacterTextSplitter,NLTKTextSplitter,SpacyTextSplitter"
   ]
  },
  {
   "cell_type": "code",
   "execution_count": 47,
   "metadata": {},
   "outputs": [],
   "source": [
    "text_splitter = RecursiveCharacterTextSplitter(chunk_size=500,chunk_overlap=0)\n",
    "resume_chunks = text_splitter.split_text(raw_resume_text)"
   ]
  },
  {
   "cell_type": "code",
   "execution_count": 71,
   "metadata": {},
   "outputs": [
    {
     "name": "stdout",
     "output_type": "stream",
     "text": [
      " Diffusion-Based Tasks  \n",
      "1. Synthetic Data Generation for Wheels  \n",
      "   - Data was generated using diffusion models to improve training for object detection tasks.  \n",
      "   - Metric: Model Tr-OCR trained only on synthetic images performed poorly but improved when mixed with real images.  \n",
      "   - Key Skill: Generative AI\n",
      "**************************************************\n",
      "2. Fine-Tuning Stable Diffusion for Industrial Use Cases  \n",
      "   - Fine-tuned Stable Diffusion for detecting industrial components like shock absorbers and left screws.  \n",
      "   - Metric: Required only 10-20 images and 20-30 minutes of training.  \n",
      "   - Key Skill: Diffusion Model Fine-Tuning   python\n",
      "**************************************************\n",
      "3. Diffusion-Based OCR Data Augmentation  \n",
      "   - Experimented with using diffusion models to generate text-based data for OCR training.  \n",
      "   - Metric: Challenges included curved text and lack of full-text captions, affecting model accuracy.  \n",
      "   - Key Skill: OCR and Generative AI   python\n",
      "**************************************************\n",
      "4. Parameter Efficient Fine-Tuning (PEFT) for Diffusion Models  \n",
      "   - Studied efficient finetuning methods to reduce training time and memory consumption.  \n",
      "   - Metric: Required less storage but took the same training time as full fine-tuning.  \n",
      "   - Key Skill: Model Optimization   python\n",
      "**************************************************\n",
      "5. Training a Tiny-Diffusion Model from Scratch  \n",
      "   - A lightweight diffusion model was trained from zero to explore alternative architectures.  \n",
      "   - Metric: After 60,000 steps, performance was still suboptimal, requiring further training.  \n",
      "   - Key Skill: Model Training   python\n",
      "**************************************************\n",
      "6. Improving Image Masking with Diffusion Models  \n",
      "   - Developed an automated segmentation approach by combining diffusion with SAM-2.  \n",
      "   - Metric: Provided more semantically accurate masks while maintaining inference speed.  \n",
      "   - Key Skill: Image Segmentation   python\n",
      "**************************************************\n",
      "7. Super-Resolution Training for Industrial Image Processing  \n",
      "   - Used high-resolution diffusion training to improve defect detection.  \n",
      "   - Metric: Increased image detail preservation but required more GPU memory.  \n",
      "   - Key Skill: Super-Resolution Techniques\n",
      "**************************************************\n",
      "8. Cross-Attention Based Mask Generation for Diffusion Models  \n",
      "   - Studied cross-attention mechanisms to improve mask creation.  \n",
      "   - Metric: Improved generalization of mask generation across multiple datasets.  \n",
      "   - Key Skill: Attention Mechanisms   python  \n",
      "\n",
      "---\n",
      "**************************************************\n",
      " YOLO-Based Tasks  \n",
      "9. Comparing YOLOv11 vs. CycleOPS for Object Detection  \n",
      "   - Conducted performance benchmarking for industrial defect detection.  \n",
      "   - Metric: YOLOv11 was 4x faster due to GPU acceleration.  \n",
      "   - Key Skill: Object Detection\n",
      "**************************************************\n",
      "10. Fine-Tuning YOLO-Pose for Keypoint Detection  \n",
      "   - YOLO-Pose was trained for detecting keypoints in control dimension Votat.  \n",
      "   - Metric: Performance was poor due to a limited dataset (10 images).  \n",
      "   - Key Skill: Pose Estimation\n",
      "**************************************************\n",
      "11. Training YOLO for TIN Localization  \n",
      "   - Trained YOLO Nano on Batilly & Douai datasets for industrial defect detection.  \n",
      "   - Metric: Achieved mAP50 of 0.995 with 30ms inference time per image.  \n",
      "   - Key Skill: Computer Vision   python\n",
      "**************************************************\n",
      "12. Master Dataset Creation for YOLO Training  \n",
      "   - Compiled 4253 training images and 800 evaluation images for model improvement.  \n",
      "   - Metric: Improved YOLO model performance on multiple manufacturing datasets.  \n",
      "   - Key Skill: Data Curation\n",
      "**************************************************\n",
      "13. Testing OCR with YOLO for Wheels  \n",
      "   - Compared the performance of YOLO-based OCR with transformer-based OCR models.  \n",
      "   - Metric: Transformer OCR models were more accurate.  \n",
      "   - Key Skill: OCR & Classification   python\n",
      "**************************************************\n",
      "14. YOLOv8-Based Object Tracking for Contamination Detection  \n",
      "   - Implemented ByteTrack-based tracking for contamination monitoring.  \n",
      "   - Metric: Performance issues arose due to inconsistent object tracking IDs.  \n",
      "   - Key Skill: Object Tracking\n",
      "**************************************************\n",
      "15. Using YOLO for Anomaly Detection in PCB Inspection  \n",
      "   - Conducted performance testing of YOLO on printed circuit board defect detection.  \n",
      "   - Metric: Achieved >99% accuracy on two datasets but <96% on others.  \n",
      "   - Key Skill: Anomaly Detection   python\n",
      "**************************************************\n",
      "16. Ablation Study on YOLO Model Performance  \n",
      "   - Conducted experiments to optimize hyperparameters for industrial defect detection.  \n",
      "   - Metric: Determined the best image resolution for YOLO (1280x1280).  \n",
      "   - Key Skill: Model Optimization  \n",
      "\n",
      "---\n",
      "**************************************************\n",
      " PatchCore / Efficient AD Tasks  \n",
      "17. PatchCore & Efficient AD for Wafer Defect Detection  \n",
      "   - Applied anomaly detection techniques to a Thales dataset.  \n",
      "   - Metric: Achieved 100% precision, but performance was biased due to brightness differences.  \n",
      "   - Key Skill: Anomaly Detection   python\n",
      "**************************************************\n",
      "18. Multi-Zone Anomaly Detection with PatchCore  \n",
      "   - Divided an industrial component into three separate zones for independent defect detection.  \n",
      "   - Metric: Processing time increased 3x compared to a single model approach.  \n",
      "   - Key Skill: Industrial AI\n",
      "**************************************************\n",
      "19. Applying PatchCore for PCB Inspection  \n",
      "   - Evaluated PatchCore against other anomaly detection models on four PCB datasets.  \n",
      "   - Metric: PatchCore achieved >99% accuracy on two datasets but <96% on the other two.  \n",
      "   - Key Skill: Deep Learning for Inspection    python\n",
      "**************************************************\n",
      "20. PatchCore-Based Defect Segmentation for Thales Components  \n",
      "   - Applied anomaly detection for manufacturing defect segmentation.  \n",
      "   - Metric: 1024x1024 resolution provided the best segmentation results.  \n",
      "   - Key Skill: Image Segmentation\n",
      "**************************************************\n",
      "1. Automatic Speech Recognition (ASR) Model Fine-tuning  \n",
      "   - Fine-tuned the Whisper ASR model using a PyTorch loop on a custom dataset, reducing word error rate from 90% to 8.75% after five epochs.  \n",
      "   - Key Skill: Automatic Speech Recognition, PyTorch, Model Fine-tuning, python\n",
      "**************************************************\n",
      "2. Small Language Model Development with PyTorch  \n",
      "   - Designed and implemented a small language model in PyTorch, focusing on tokenization, embedding layers, and positional encoding.  \n",
      "   - Developed a simplified Transformer architecture with self-attention mechanisms and look-ahead masking to predict subsequent words.  \n",
      "   - Key Skill: PyTorch, Transformer Architecture, Natural Language Processing\n",
      "**************************************************\n",
      "3. Optimized Model Performance  \n",
      "   - Improved model performance through effective loss calculation and weight adjustments, enabling coherent text generation.  \n",
      "   - Key Skill: Machine Learning, Loss Function Optimization\n",
      "**************************************************\n",
      "4. Automatic PDF to Podcast Conversion  \n",
      "   - Developed an automated workflow for converting PDF documents into podcasts using LLMs and text-to-speech (TTS) technology.  \n",
      "   - Key Skills: PDF Text Extraction, Text Cleaning, Prompt Engineering, Text Chunking, Text-to-Speech Conversion, Jupyter Notebooks\n",
      "**************************************************\n",
      "5. RAG System Development  \n",
      "   - Developed a Retrieval Augmented Generation (RAG) system using the Llama model to answer questions about the Bhagavad Gita, ensuring factually accurate responses.  \n",
      "   - Utilized text chunking, text encoding, vector databases, and similarity search for context-aware answers.  Retrieval Augmented Generation (RAG), LLM, Text Chunking, Text Encoding, Vector Databases, Similarity Search\n",
      "**************************************************\n",
      "6. RAG Application Development  \n",
      "   - Built a Retrieval Augmented Generation (RAG) application using Llama 3.2, optimized for memory through 8-bit and 4-bit quantization.  \n",
      "   - Designed the app to answer questions based on the Bhagavad Gita.  \n",
      "   - Key Skills: Retrieval Augmented Generation (RAG), Llama, Memory Optimization, Quantization\n",
      "**************************************************\n"
     ]
    }
   ],
   "source": [
    "import re\n",
    "\n",
    "for idx,c in enumerate(resume_chunks):\n",
    "    c=re.sub(r'\\*+', '', c)\n",
    "    c=re.sub(r'\\#+', '', c)\n",
    "    print(c.strip('*'))\n",
    "    print('*'*50)\n",
    "    resume_chunks[idx]=c"
   ]
  },
  {
   "cell_type": "markdown",
   "metadata": {},
   "source": [
    "# Extract Keyword from the job posting"
   ]
  },
  {
   "cell_type": "code",
   "execution_count": 94,
   "metadata": {},
   "outputs": [
    {
     "name": "stdout",
     "output_type": "stream",
     "text": [
      "\n",
      "\n",
      "['Python', 'Machine Learning', 'NLP', 'Gradient Boosted Trees', 'Large Language Models', 'TensorFlow', 'PyTorch', 'LangChain', 'SQLAlchemy', 'Alembic', 'Flask', 'Django', 'FastAPI', 'Recommendation Engines', 'Retrieval-Augmented Generation']\n"
     ]
    }
   ],
   "source": [
    "SYSTEM_PROMPT = ''' Environment: iPython\n",
    "You are a specialized model for extracting key information from job postings. Your task is to read the provided job description and identify the key hard skills required for the position. Hard skills refer to specific, teachable abilities such as programming languages, tools, technologies, certifications, or techniques that are directly related to the job role.\n",
    "No nned to add any suffix or prefix to your response. give output as a python list of strings.\n",
    "'''\n",
    "\n",
    "messages = [\n",
    "    {\"role\": \"system\", \"content\": SYSTEM_PROMPT},\n",
    "    {\"role\": \"user\", \"content\": f'''\n",
    "\n",
    "Do you want to work in a company with the purpose of helping patients around the world? Do you want to learn and grow every day? Do you want to change healthcare? \n",
    "\n",
    "\n",
    "\n",
    "Lyfegen is a fast-growing health-tech company making healthcare more accessible and affordable by delivering solutions for healthcare payers and pharma to identify the right drug pricing agreements, simulate and understand the financial impacts of those agreements, and automate the management of them. \n",
    "\n",
    "\n",
    "\n",
    "We are seeking a passionate and skilled AI Engineer. This role focuses on leading and driving AI initiatives, optimizing simulations to support drug pricing negotiations, and improving our LLM-based chatbot to facilitate learning about drug reimbursements. This position offers an exciting opportunity to join a dynamic team at the forefront of innovation in healthcare technology.\n",
    "\n",
    "\n",
    "\n",
    "We are doing things nobody has done before! Thus, creative problem solving is a must and a get-things-done mentality a definitive requirement. \n",
    "\n",
    "\n",
    "\n",
    " \n",
    "\n",
    "Your main responsibilities: \n",
    "\n",
    "Lead all the AI initiatives inside the Lyfegen platform.\n",
    "Discover and benchmark different strategies for fast and accurate RAG on tabular data sources. Evaluate methods to achieve efficient and precise question-answering.\n",
    "Orchestrate and compose AI-supported toolchains. Use your knowledge of existing components, models and libraries such as LangChain and GPT to create AI toolchains to support diverse user tasks on the Lyfegen Platform.\n",
    "Support Lyfegen internal users with machine learning tooling. Provide ML tools and automations to streamline and enhance our internal workflows and processes.\n",
    "Work with our internal Product Owners to translate company vision into technical specs and collaborate with engineers to solve challenges.\n",
    "\n",
    "\n",
    "Who you are: \n",
    "\n",
    "Machine learning and NLP expertise:\n",
    "Solid understanding of machine learning algorithms such as gradient boosted trees.\n",
    "Experience in multiple large language models (LLMs) specifically for Q&A and chat.\n",
    "Experience in benchmarking and optimizing toolchains.\n",
    "Proficiency in AI-relevant programming languages such as Python. Familiarity with frameworks and libraries such as TensorFlow, PyTorch and LangChain.\n",
    "Familiarity with databases for storing and retrieving data for AI models. (SQLAlchemy,Alembic)\n",
    "Expertise in Python-based Web frameworks such as Flask, Django or FastAPI.\n",
    "Research mindset by owning an AI feature/product end to end building server-side software that delivers AI inference results, aiming for reliable, scalable systems that seamlessly integrate into our products.\n",
    "AI toolchain integration skills. Ability to integrate and orchestrate AI tools and libraries into cohesive, user-friendly, and performant systems. \n",
    "Experience in recommendation engines is a bonus, particularly in apps involving pricing.\n",
    "Strong problem-solving abilities to identify issues and evaluate solutions.\n",
    "Analytical skills to implement effective AI strategies.\n",
    "Excellent interpersonal and communication skills to work effectively with stakeholders.\n",
    "Ability to translate business requirements into user-friendly AI-enabled solutions.\n",
    "Hands-on experience with retrieval-augmented generation (RAG) on tabular data.\n",
    "\n",
    "\n",
    "\n",
    "\n",
    "What we offer: \n",
    "\n",
    "Join a company with a purposeful vision and mission. \n",
    "Direct influence on the growth and success of Lyfegen. \n",
    "The possibility to work flexibly. \n",
    "Become part of a team of international high performers. \n",
    "Opportunities for professional development and career advancement.\n",
    "'''},\n",
    "]\n",
    "\n",
    "extracted_keywords = llm_generate(messages,max_tokens=256)\n",
    "print(extracted_keywords)"
   ]
  },
  {
   "cell_type": "code",
   "execution_count": 72,
   "metadata": {},
   "outputs": [],
   "source": [
    "from sentence_transformers import CrossEncoder"
   ]
  },
  {
   "cell_type": "code",
   "execution_count": 73,
   "metadata": {},
   "outputs": [],
   "source": [
    "model = CrossEncoder(\"cross-encoder/ms-marco-MiniLM-L-6-v2\")\n",
    "\n",
    "reference_chunk = '''['Python', 'C++', 'Machine Learning', 'Computer Vision', 'Data Preparation', 'Statistical Analysis', 'Data Visualization', 'Algorithm Development', 'Model Optimization', 'Deployment', 'Integration', 'Real-World Testing', 'Model Monitoring']'''# Initialize with the first chunk\n",
    "\n",
    "similarity_threshold=-6\n",
    "sc=[]\n",
    "similar_chunk=[]\n",
    "for chunk in resume_chunks:\n",
    "    pairs = [[reference_chunk, chunk]]\n",
    "    scores = model.predict(pairs)\n",
    "    similarity_score = scores[0]\n",
    "    sc.append(similarity_score)\n",
    "\n",
    "    if similarity_score > similarity_threshold:\n",
    "        similar_chunk.append(chunk)"
   ]
  },
  {
   "cell_type": "code",
   "execution_count": 74,
   "metadata": {},
   "outputs": [
    {
     "data": {
      "text/plain": [
       "[<matplotlib.lines.Line2D at 0x7f346cd7a7b0>]"
      ]
     },
     "execution_count": 74,
     "metadata": {},
     "output_type": "execute_result"
    },
    {
     "data": {
      "image/png": "[encoded data removed]",
      "text/plain": [
       "<Figure size 640x480 with 1 Axes>"
      ]
     },
     "metadata": {},
     "output_type": "display_data"
    }
   ],
   "source": [
    "import matplotlib.pyplot as plt\n",
    "plt.plot(sc)"
   ]
  },
  {
   "cell_type": "code",
   "execution_count": 79,
   "metadata": {},
   "outputs": [
    {
     "name": "stdout",
     "output_type": "stream",
     "text": [
      " Diffusion-Based Tasks  \n",
      "1. Synthetic Data Generation for Wheels  \n",
      "   - Data was generated using diffusion models to improve training for object detection tasks.  \n",
      "   - Metric: Model Tr-OCR trained only on synthetic images performed poorly but improved when mixed with real images.  \n",
      "   - Key Skill: Generative AI\n",
      "**************************************************\n",
      "3. Diffusion-Based OCR Data Augmentation  \n",
      "   - Experimented with using diffusion models to generate text-based data for OCR training.  \n",
      "   - Metric: Challenges included curved text and lack of full-text captions, affecting model accuracy.  \n",
      "   - Key Skill: OCR and Generative AI   python\n",
      "**************************************************\n",
      "5. Training a Tiny-Diffusion Model from Scratch  \n",
      "   - A lightweight diffusion model was trained from zero to explore alternative architectures.  \n",
      "   - Metric: After 60,000 steps, performance was still suboptimal, requiring further training.  \n",
      "   - Key Skill: Model Training   python\n",
      "**************************************************\n",
      "11. Training YOLO for TIN Localization  \n",
      "   - Trained YOLO Nano on Batilly & Douai datasets for industrial defect detection.  \n",
      "   - Metric: Achieved mAP50 of 0.995 with 30ms inference time per image.  \n",
      "   - Key Skill: Computer Vision   python\n",
      "**************************************************\n",
      "12. Master Dataset Creation for YOLO Training  \n",
      "   - Compiled 4253 training images and 800 evaluation images for model improvement.  \n",
      "   - Metric: Improved YOLO model performance on multiple manufacturing datasets.  \n",
      "   - Key Skill: Data Curation\n",
      "**************************************************\n",
      "16. Ablation Study on YOLO Model Performance  \n",
      "   - Conducted experiments to optimize hyperparameters for industrial defect detection.  \n",
      "   - Metric: Determined the best image resolution for YOLO (1280x1280).  \n",
      "   - Key Skill: Model Optimization  \n",
      "\n",
      "---\n",
      "**************************************************\n",
      "3. Optimized Model Performance  \n",
      "   - Improved model performance through effective loss calculation and weight adjustments, enabling coherent text generation.  \n",
      "   - Key Skill: Machine Learning, Loss Function Optimization\n",
      "**************************************************\n"
     ]
    }
   ],
   "source": [
    "for idx,c in enumerate(similar_chunk):\n",
    "    print(c.strip('*'))\n",
    "    print('*'*50)"
   ]
  },
  {
   "cell_type": "code",
   "execution_count": 80,
   "metadata": {},
   "outputs": [
    {
     "name": "stdout",
     "output_type": "stream",
     "text": [
      "Similarity Scores: [0.14974809005620185, 0.025551970627045846, 0.12161552363530305, 0.05041460496740116, 0.06839313063915566, 0.010437357770907572, 0.0, 0.008896458143876119, 0.0, 0.0, 0.09533656593435197, 0.10513591302888614, 0.03573522782127271, 0.030560965251220658, 0.04280128904552389, 0.079696344512492, 0.009745653662317751, 0.021975401307065885, 0.03480818251444125, 0.0, 0.055540690954185304, 0.04651930693849703, 0.15447894079698035, 0.0, 0.02868962878143473, 0.03693413756243954]\n",
      " Diffusion-Based Tasks  \n",
      "1. Synthetic Data Generation for Wheels  \n",
      "   - Data was generated using diffusion models to improve training for object detection tasks.  \n",
      "   - Metric: Model Tr-OCR trained only on synthetic images performed poorly but improved when mixed with real images.  \n",
      "   - Key Skill: Generative AI\n",
      "**************************************************\n",
      "3. Diffusion-Based OCR Data Augmentation  \n",
      "   - Experimented with using diffusion models to generate text-based data for OCR training.  \n",
      "   - Metric: Challenges included curved text and lack of full-text captions, affecting model accuracy.  \n",
      "   - Key Skill: OCR and Generative AI   python\n",
      "**************************************************\n",
      "5. Training a Tiny-Diffusion Model from Scratch  \n",
      "   - A lightweight diffusion model was trained from zero to explore alternative architectures.  \n",
      "   - Metric: After 60,000 steps, performance was still suboptimal, requiring further training.  \n",
      "   - Key Skill: Model Training   python\n",
      "**************************************************\n",
      "11. Training YOLO for TIN Localization  \n",
      "   - Trained YOLO Nano on Batilly & Douai datasets for industrial defect detection.  \n",
      "   - Metric: Achieved mAP50 of 0.995 with 30ms inference time per image.  \n",
      "   - Key Skill: Computer Vision   python\n",
      "**************************************************\n",
      "12. Master Dataset Creation for YOLO Training  \n",
      "   - Compiled 4253 training images and 800 evaluation images for model improvement.  \n",
      "   - Metric: Improved YOLO model performance on multiple manufacturing datasets.  \n",
      "   - Key Skill: Data Curation\n",
      "**************************************************\n",
      "16. Ablation Study on YOLO Model Performance  \n",
      "   - Conducted experiments to optimize hyperparameters for industrial defect detection.  \n",
      "   - Metric: Determined the best image resolution for YOLO (1280x1280).  \n",
      "   - Key Skill: Model Optimization  \n",
      "\n",
      "---\n",
      "**************************************************\n",
      "3. Optimized Model Performance  \n",
      "   - Improved model performance through effective loss calculation and weight adjustments, enabling coherent text generation.  \n",
      "   - Key Skill: Machine Learning, Loss Function Optimization\n",
      "**************************************************\n"
     ]
    }
   ],
   "source": [
    "from sklearn.feature_extraction.text import TfidfVectorizer\n",
    "from sklearn.metrics.pairwise import cosine_similarity\n",
    "\n",
    "# Initialize TF-IDF vectorizer\n",
    "vectorizer = TfidfVectorizer()\n",
    "\n",
    "# Reference chunk\n",
    "reference_chunk = '''['Python', 'C++', 'Machine Learning', 'Computer Vision', 'Data Preparation', 'Statistical Analysis', 'Data Visualization', 'Algorithm Development', 'Model Optimization', 'Deployment', 'Integration', 'Real-World Testing', 'Model Monitoring']'''\n",
    "\n",
    "\n",
    "# Convert the reference_chunk and resume_chunks into TF-IDF vectors\n",
    "tfidf_matrix = vectorizer.fit_transform([reference_chunk] + resume_chunks)\n",
    "\n",
    "# Compute cosine similarity between the reference_chunk and each resume_chunk\n",
    "similarities = cosine_similarity(tfidf_matrix[0:1], tfidf_matrix[1:]).flatten()\n",
    "\n",
    "# Set the similarity threshold\n",
    "similarity_threshold = 0.06  # Adjust based on your needs\n",
    "\n",
    "# Store similar chunks\n",
    "similar_chunk = []\n",
    "sc = []  # Store similarity scores\n",
    "\n",
    "# Iterate through the chunks and filter based on the threshold\n",
    "for idx, similarity_score in enumerate(similarities):\n",
    "    sc.append(similarity_score)\n",
    "    \n",
    "    if similarity_score > similarity_threshold:\n",
    "        similar_chunk.append(resume_chunks[idx])\n",
    "\n",
    "# Output the results\n",
    "\n",
    "print(\"Similarity Scores:\", sc)\n",
    "for idx,c in enumerate(similar_chunk):\n",
    "    print(c.strip('*'))\n",
    "    print('*'*50)\n"
   ]
  },
  {
   "cell_type": "code",
   "execution_count": 78,
   "metadata": {},
   "outputs": [
    {
     "name": "stdout",
     "output_type": "stream",
     "text": [
      " Diffusion-Based Tasks  \n",
      "1. Synthetic Data Generation for Wheels  \n",
      "   - Data was generated using diffusion models to improve training for object detection tasks.  \n",
      "   - Metric: Model Tr-OCR trained only on synthetic images performed poorly but improved when mixed with real images.  \n",
      "   - Key Skill: Generative AI\n"
     ]
    }
   ],
   "source": [
    "print(similar_chunk[0])"
   ]
  },
  {
   "cell_type": "markdown",
   "metadata": {},
   "source": [
    "# Identify the key topics"
   ]
  },
  {
   "cell_type": "code",
   "execution_count": 5,
   "metadata": {},
   "outputs": [
    {
     "name": "stdout",
     "output_type": "stream",
     "text": [
      "Topic 1:\n",
      "In this video, we're going to have a closer look at LangChain Agents and understand what  Agents are all about.  First we're going to dive into what an agent is and understand how agents work under the  hood of LangChain.  Then we're going to have a look at what we can do with agents that we couldn't do before  and some of the future implications for businesses that are already investing in technology,  data and analytics.  And finally, I'm going to show you how to get started building your own\n",
      "----------------------------------------\n",
      "Topic 2:\n",
      "knows about your products, which is better than before, but it's still not good enough. Because what does a chatbot really need to know in order to give the customers a good  customer experience? The chatbot needs to know stuff about the customer. If this chatbot is on  a webpage, it needs to know the context of the visit. And this could be information like,  is this a new potential customer or an existing customer? Or what is the browsing history of this visitor?  What products do we recommend\n",
      "----------------------------------------\n",
      "Topic 3:\n",
      "information through APIs. In LangChain, connectors to APIs and computational resources are called  tools and agents are what we get when we combine a language model with one or more tools.  By combining a language model with a set of tools, we are empowering the language model to solve specific problems,  much in the same way that a regular person would use tools like Python Excel or data tables with information to solve a specific task. In the last video we saw an example of a Langtrain agent\n",
      "----------------------------------------\n",
      "Topic 4:\n",
      "different channels a business uses  to communicate with their customers  or potential customers.  And we have five main channels.  So the five main ways businesses communicate online  with their customers are through paid and social media,  their web page,  chats, email and SMS.  The online customer experience is primarily created in those channels and is controlled  by text, images and video.  The text part can be generated by language models and businesses are already working  on using chat\n",
      "----------------------------------------\n",
      "Topic 5:\n",
      "on using chat GBT for this.  The images in the video will also be created by AI and companies are now working on using chat GBT for this. The images in the video will also be created by AI,  and companies are now working on using mid-journey, stable  diffusion, and control net for this.  Let's forget about the images and video part for now.  We'll get back to that in later videos  and just focus on the language modeling.  We talked about before that the language models don't know  enough about\n",
      "----------------------------------------\n",
      "Topic 6:\n",
      "this video. The first thing we're gonna do we're going to load the needed  libraries, I'm going to load the environment variables and here we have  the Python function that will extract the data from the Shopify API. It takes an  object name as input that could be customers, orders, or products and it extracts 250 items.  I've already covered how you get the access token to extract the data from Shopify in an earlier video,  I'll put a link to that video below this one.  Let me just show you\n",
      "----------------------------------------\n",
      "Topic 7:\n",
      "and it will return the number of items as a string.  And now we have everything we need to define the agent.  The language model, in this case, GBT4,  will seek to infer what it needs to do with the tool  from the signature of the function.  So we're going to define an agent chain  by initializing the agent with the tools, in this case,  just one tool, the chat model, and the agent type.  And now we can ask GBT4 to count the number of orders, customers,  or products, or whatever in the Shopify\n",
      "----------------------------------------\n"
     ]
    }
   ],
   "source": [
    "from langchain.text_splitter import RecursiveCharacterTextSplitter\n",
    "from sentence_transformers import CrossEncoder\n",
    "import numpy as np\n",
    "\n",
    "def find_new_topics_from_transcript(transcript, chunk_size=500, chunk_overlap=20, similarity_threshold=-5):\n",
    "    \"\"\"\n",
    "    Finds new topics in a podcast transcript using chunking and cross-encoder similarity.\n",
    "\n",
    "    Args:\n",
    "        transcript (str): The podcast transcript.\n",
    "        chunk_size (int): The size of each text chunk.\n",
    "        chunk_overlap (int): The overlap between text chunks.\n",
    "        similarity_threshold (float): The threshold for similarity between chunks.\n",
    "\n",
    "    Returns:\n",
    "        list: A list of new topic chunks.\n",
    "    \"\"\"\n",
    "\n",
    "    text_splitter = RecursiveCharacterTextSplitter(\n",
    "        chunk_size=chunk_size, chunk_overlap=chunk_overlap\n",
    "    )\n",
    "    chunks = text_splitter.split_text(transcript)\n",
    "\n",
    "    model = CrossEncoder(\"cross-encoder/ms-marco-MiniLM-L-6-v2\")\n",
    "\n",
    "    new_topics = [chunks[0]]  # Initialize with the first chunk\n",
    "    reference_chunk = chunks[0]\n",
    "\n",
    "    for chunk in chunks[1:]:\n",
    "        pairs = [[reference_chunk, chunk]]\n",
    "        scores = model.predict(pairs)\n",
    "        similarity_score = scores[0]\n",
    "\n",
    "        if similarity_score < similarity_threshold:\n",
    "            new_topics.append(chunk)\n",
    "            reference_chunk = chunk  # Update the reference chunk\n",
    "        #else:\n",
    "        #   print(f\"Similarity {similarity_score:.4f} found between: \\n{reference_chunk[:100]}...\\nand \\n{chunk[:100]}...\")\n",
    "\n",
    "    return new_topics\n",
    "\n",
    "\n",
    "new_topics = find_new_topics_from_transcript(transcript_txt)\n",
    "\n",
    "for i, topic in enumerate(new_topics):\n",
    "    print(f\"Topic {i+1}:\\n{topic}\\n{'-'*40}\")"
   ]
  },
  {
   "cell_type": "markdown",
   "metadata": {},
   "source": [
    "# Look through the transcript for time stamps"
   ]
  },
  {
   "cell_type": "code",
   "execution_count": null,
   "metadata": {},
   "outputs": [
    {
     "name": "stdout",
     "output_type": "stream",
     "text": [
      "{'00:00': \"In this video, we're going to have a closer look at LangChain Agents and understand what  Agents are all about.  First we're going to dive into what an agent is and understand how agents work under the  hood of LangChain.  Then we're going to have a look at what we can do with agents that we couldn't do before  and some of the future implications for businesses that are already investing in technology,  data and analytics.  And finally, I'm going to show you how to get started building your own\", '01:18': \"knows about your products, which is better than before, but it's still not good enough. Because what does a chatbot really need to know in order to give the customers a good  customer experience? The chatbot needs to know stuff about the customer. If this chatbot is on  a webpage, it needs to know the context of the visit. And this could be information like,  is this a new potential customer or an existing customer? Or what is the browsing history of this visitor?  What products do we recommend\", '02:14': 'information through APIs. In LangChain, connectors to APIs and computational resources are called  tools and agents are what we get when we combine a language model with one or more tools.  By combining a language model with a set of tools, we are empowering the language model to solve specific problems,  much in the same way that a regular person would use tools like Python Excel or data tables with information to solve a specific task. In the last video we saw an example of a Langtrain agent', '04:18': 'different channels a business uses  to communicate with their customers  or potential customers.  And we have five main channels.  So the five main ways businesses communicate online  with their customers are through paid and social media,  their web page,  chats, email and SMS.  The online customer experience is primarily created in those channels and is controlled  by text, images and video.  The text part can be generated by language models and businesses are already working  on using chat', '04:43': \"on using chat GBT for this.  The images in the video will also be created by AI and companies are now working on using chat GBT for this. The images in the video will also be created by AI,  and companies are now working on using mid-journey, stable  diffusion, and control net for this.  Let's forget about the images and video part for now.  We'll get back to that in later videos  and just focus on the language modeling.  We talked about before that the language models don't know  enough about\", '06:21': \"this video. The first thing we're gonna do we're going to load the needed  libraries, I'm going to load the environment variables and here we have  the Python function that will extract the data from the Shopify API. It takes an  object name as input that could be customers, orders, or products and it extracts 250 items.  I've already covered how you get the access token to extract the data from Shopify in an earlier video,  I'll put a link to that video below this one.  Let me just show you\", '07:59': \"and it will return the number of items as a string.  And now we have everything we need to define the agent.  The language model, in this case, GBT4,  will seek to infer what it needs to do with the tool  from the signature of the function.  So we're going to define an agent chain  by initializing the agent with the tools, in this case,  just one tool, the chat model, and the agent type.  And now we can ask GBT4 to count the number of orders, customers,  or products, or whatever in the Shopify\"}\n"
     ]
    }
   ],
   "source": [
    "from sentence_transformers import CrossEncoder\n",
    "import re\n",
    "\n",
    "\n",
    "def parse_srt(subtitle_file):\n",
    "    \"\"\"Parses the subtitle file and returns a list of (start_time, text) tuples.\"\"\"\n",
    "    subtitles = []\n",
    "    pattern = re.compile(r\"(\\d+)\\n(\\d{2}:\\d{2}:\\d{2},\\d{3}) --> \\d{2}:\\d{2}:\\d{2},\\d{3}\\n(.+?)(?=\\n\\d+\\n|\\Z)\", re.DOTALL)\n",
    "    \n",
    "    with open(subtitle_file, \"r\", encoding=\"utf-8\") as file:\n",
    "        content = file.read()\n",
    "    \n",
    "    matches = pattern.findall(content)\n",
    "    for _, start_time, text in matches:\n",
    "        cleaned_text = text.replace(\"\\n\", \" \").strip()\n",
    "        # Convert HH:MM:SS,mmm to MM:SS\n",
    "        hours, minutes, seconds_ms = start_time.split(\":\")\n",
    "        seconds, milliseconds = seconds_ms.split(\",\")\n",
    "        start_time_MMSS = f\"{minutes}:{seconds}\"\n",
    "        subtitles.append((start_time_MMSS, cleaned_text))\n",
    "    \n",
    "    return subtitles\n",
    "\n",
    "def find_best_timestamps(subtitle_file, queries):\n",
    "    \"\"\"Finds the best subtitle match for each query and returns the start timestamps.\"\"\"\n",
    "    subtitles = parse_srt(subtitle_file)\n",
    "    texts = [text for _, text in subtitles]\n",
    "    start_times = [start for start, _ in subtitles]\n",
    "\n",
    "    model = CrossEncoder(\"cross-encoder/ms-marco-MiniLM-L-6-v2\")\n",
    "    \n",
    "    query_timestamps = {}\n",
    "    for query in queries:\n",
    "        scores = model.predict([[query, text] for text in texts])\n",
    "        best_idx = scores.argmax()\n",
    "        query_timestamps[start_times[best_idx]] = query\n",
    "    \n",
    "    return query_timestamps\n",
    "\n",
    "# Example usage:\n",
    "queries =  new_topics\n",
    "\n",
    "subtitle_file = \"results/subtitles.srt\"  # Replace with your actual subtitle file path\n",
    "\n",
    "timestamps = find_best_timestamps(subtitle_file, queries)\n",
    "# Function to convert timestamp to minutes and seconds for sorting\n",
    "def time_to_seconds(time_str):\n",
    "    minutes, seconds = map(int, time_str.split(':'))\n",
    "    return minutes * 60 + seconds\n",
    "\n",
    "# Sort dictionary by timestamp\n",
    "timestamps = dict(sorted(timestamps.items(), key=lambda x: time_to_seconds(x[0])))\n",
    "print(timestamps)"
   ]
  },
  {
   "cell_type": "markdown",
   "metadata": {},
   "source": [
    "# Rephrase the chapter names using llm "
   ]
  },
  {
   "cell_type": "code",
   "execution_count": 19,
   "metadata": {},
   "outputs": [],
   "source": [
    "def rephrase_chapter(chapter_text):\n",
    "    SYSTEM_PROMPT = '''rephrase this chapter name to make it look like a standalone video title (not too flashy keep it simple, do not use bloat words like mastering, unlocking, embarking etc).\n",
    "    The sentence should be easily understandable and concise. \n",
    "    however the title should not be more than 60 characters\n",
    "    Do not include any additional text or numbering.'''\n",
    "    messages = [\n",
    "        {\"role\": \"system\", \"content\": SYSTEM_PROMPT},\n",
    "        {\"role\": \"user\", \"content\": f'''CHAPTER TEXT: {chapter_text}'''}\n",
    "    ]\n",
    "\n",
    "    prompt = tokenizer.apply_chat_template(messages, tokenize=False)\n",
    "    inputs = tokenizer(prompt, return_tensors=\"pt\").to(device)\n",
    "    # print(prompt)\n",
    "\n",
    "    with torch.no_grad():\n",
    "        output = model.generate(\n",
    "            **inputs,\n",
    "            do_sample=False,\n",
    "            max_new_tokens=50,\n",
    "        )\n",
    "\n",
    "    processed_text = tokenizer.decode(output[0][len(inputs.input_ids[0])+3:], skip_special_tokens=True)\n",
    "    return processed_text.strip()\n",
    "\n"
   ]
  },
  {
   "cell_type": "code",
   "execution_count": 20,
   "metadata": {},
   "outputs": [
    {
     "name": "stderr",
     "output_type": "stream",
     "text": [
      "c:\\Users\\User\\miniconda3\\envs\\torch_env\\Lib\\site-packages\\transformers\\generation\\configuration_utils.py:590: UserWarning: `do_sample` is set to `False`. However, `temperature` is set to `0.6` -- this flag is only used in sample-based generation modes. You should set `do_sample=True` or unset `temperature`.\n",
      "  warnings.warn(\n",
      "c:\\Users\\User\\miniconda3\\envs\\torch_env\\Lib\\site-packages\\transformers\\generation\\configuration_utils.py:595: UserWarning: `do_sample` is set to `False`. However, `top_p` is set to `0.9` -- this flag is only used in sample-based generation modes. You should set `do_sample=True` or unset `top_p`.\n",
      "  warnings.warn(\n"
     ]
    },
    {
     "name": "stdout",
     "output_type": "stream",
     "text": [
      "00:00 - Understanding LangChain Agents\n",
      "01:18 - Unlocking Customer Insights for Better Chatbot Experience\n",
      "02:14 - Building Tools for Language Models\n",
      "04:18 - 5 Key Channels for Business Communication\n",
      "04:43 - ChatGPT: The Future of Language Understanding\n",
      "06:21 - Shopify API Data Extraction with Python\n",
      "07:59 - Defining a Shopify Agent with GBT4\n"
     ]
    }
   ],
   "source": [
    "chapter_timestamps=[]\n",
    "\n",
    "for ts in timestamps:\n",
    "    chapter_name = rephrase_chapter(timestamps[ts])\n",
    "    chapter_timestamps.append(f'''{ts} - {chapter_name.strip('\"').strip(\"'\")}''')\n",
    "\n",
    "print('\\n'.join(chapter_timestamps))"
   ]
  },
  {
   "cell_type": "markdown",
   "metadata": {},
   "source": [
    "# Youtube video downloader"
   ]
  },
  {
   "cell_type": "code",
   "execution_count": 38,
   "metadata": {},
   "outputs": [
    {
     "name": "stdout",
     "output_type": "stream",
     "text": [
      "[youtube] Extracting URL: https://www.youtube.com/watch?v=Xi9Ui-9qcPw&t=170s\n",
      "[youtube] Xi9Ui-9qcPw: Downloading webpage\n",
      "[youtube] Xi9Ui-9qcPw: Downloading tv client config\n",
      "[youtube] Xi9Ui-9qcPw: Downloading player 4fcd6e4a\n",
      "[youtube] Xi9Ui-9qcPw: Downloading tv player API JSON\n",
      "[youtube] Xi9Ui-9qcPw: Downloading ios player API JSON\n",
      "[youtube] Xi9Ui-9qcPw: Downloading m3u8 information\n",
      "[info] Xi9Ui-9qcPw: Downloading 1 format(s): 248+251\n",
      "[download] Destination: LangChain Agents： Simply Explained!.f248.webm\n",
      "[download] 100% of   12.45MiB in 00:00:00 at 43.77MiB/s    \n",
      "[download] Destination: LangChain Agents： Simply Explained!.f251.webm\n",
      "[download] 100% of    8.59MiB in 00:00:00 at 43.95MiB/s  \n",
      "[Merger] Merging formats into \"LangChain Agents： Simply Explained!.mp4\"\n",
      "Deleting original file LangChain Agents： Simply Explained!.f248.webm (pass -k to keep)\n",
      "Deleting original file LangChain Agents： Simply Explained!.f251.webm (pass -k to keep)\n",
      "Download complete.\n"
     ]
    }
   ],
   "source": [
    "import yt_dlp\n",
    "\n",
    "def download_youtube_video(url, output_path=\".\"):\n",
    "    \"\"\"\n",
    "    Downloads a YouTube video using yt-dlp.\n",
    "\n",
    "    Args:\n",
    "        url (str): The YouTube video URL.\n",
    "        output_path (str): The directory where the video will be saved.\n",
    "    \"\"\"\n",
    "    ydl_opts = {\n",
    "        'outtmpl': f'{output_path}/%(title)s.%(ext)s', # output template\n",
    "        'format': 'bestvideo[height<=?1080]+bestaudio/best', # best video and audio, max 1080p\n",
    "        'merge_output_format': 'mp4', # merge to mp4\n",
    "    }\n",
    "\n",
    "    try:\n",
    "        with yt_dlp.YoutubeDL(ydl_opts) as ydl:\n",
    "            ydl.download([url])\n",
    "        print(\"Download complete.\")\n",
    "\n",
    "    except Exception as e:\n",
    "        print(f\"An error occurred: {e}\")\n",
    "\n",
    "\n",
    "\n",
    "# Example usage:\n",
    "video_url = \"https://www.youtube.com/watch?v=Xi9Ui-9qcPw&t=170s\" # Replace with your YouTube URL.\n",
    "download_youtube_video(video_url) # Downloads to the current directory\n",
    "\n",
    "# Example with a specific output path:\n",
    "# download_youtube_video(video_url, output_path=\"/path/to/your/videos\")"
   ]
  }
 ],
 "metadata": {
  "kernelspec": {
   "display_name": "diffuser_data_generation",
   "language": "python",
   "name": "python3"
  },
  "language_info": {
   "codemirror_mode": {
    "name": "ipython",
    "version": 3
   },
   "file_extension": ".py",
   "mimetype": "text/x-python",
   "name": "python",
   "nbconvert_exporter": "python",
   "pygments_lexer": "ipython3",
   "version": "3.12.2"
  }
 },
 "nbformat": 4,
 "nbformat_minor": 2
}
