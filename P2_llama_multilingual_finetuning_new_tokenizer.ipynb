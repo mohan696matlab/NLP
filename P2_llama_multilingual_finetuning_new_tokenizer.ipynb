{
 "cells": [
  {
   "cell_type": "code",
   "execution_count": 1,
   "metadata": {},
   "outputs": [],
   "source": [
    "from transformers import AutoModelForCausalLM, AutoTokenizer, BitsAndBytesConfig, get_scheduler\n",
    "from bitsandbytes.optim import Adam8bit,PagedAdam32bit\n",
    "from peft import LoraConfig, get_peft_model, PeftModel, PeftConfig\n",
    "from peft import prepare_model_for_kbit_training\n",
    "import torch\n",
    "from IPython.display import  clear_output\n",
    "import time\n",
    "import gc\n",
    "from torch.utils.data import Dataset, DataLoader\n",
    "from tokenizers import ByteLevelBPETokenizer\n",
    "\n",
    "device = 'cuda' if torch.cuda.is_available() else 'cpu'\n",
    "\n"
   ]
  },
  {
   "cell_type": "markdown",
   "metadata": {},
   "source": [
    "# Load a Multi Lingual Dataset"
   ]
  },
  {
   "cell_type": "code",
   "execution_count": 2,
   "metadata": {},
   "outputs": [],
   "source": [
    "from datasets import load_dataset\n",
    "\n",
    "# Load the dataset\n",
    "# dataset = load_dataset(\"OdiaGenAI/hardcode_odia_qa_105\")\n",
    "dataset = load_dataset('OdiaGenAI/odia_domain_context_train_v1')"
   ]
  },
  {
   "cell_type": "code",
   "execution_count": 3,
   "metadata": {},
   "outputs": [
    {
     "data": {
      "text/plain": [
       "{'instruction': 'ଓଡ଼ିଶାର ଉଦୟଗିରି ଏବଂ ଖଣ୍ଡଗିରି ଗୁମ୍ଫାର ଇତିହାସ କ’ଣ?',\n",
       " 'input': '',\n",
       " 'output': 'ଉଦୟଗିରି ଏବଂ ଖଣ୍ଡଗିରି ଗୁମ୍ଫା ଭାରତର ଓଡ଼ିଶା ରାଜ୍ୟରେ ଅବସ୍ଥିତ ପ୍ରାଚୀନ ଗୁମ୍ଫା ପରିସରର ଏକ ସମୂହ। ଏହି ଗୁମ୍ଫା ଗୁଡିକ ଖ୍ରୀଷ୍ଟପୂର୍ବ ଦ୍ୱିତୀୟ ଶତାବ୍ଦୀ ଏବଂ ପ୍ରଥମ ଶତାବ୍ଦୀ ମଧ୍ୟରେ ଜୈନ ସନ୍ନ୍ୟାସୀମାନଙ୍କ ଦ୍ୱାରା ବାଲୁକା ପଥରରେ ଖୋଦିତ ହୋଇଥିବା ଜଣାଯାଏ।\\nଉଦୟଗିରି ଗୁମ୍ଫା ଗୁଡିକ ବୃହତ ଏବଂ ଅଧିକ ଜଟିଳ ହୋଇଥିବାବେଳେ ଖଣ୍ଡଗିରି ଗୁମ୍ଫା ଗୁଡିକ ଛୋଟ ଏବଂ ଡିଜାଇନ ଦୃଷ୍ଟିରୁ ସରଳ। ଏହି ପ୍ରାଚୀନ ଗୁମ୍ଫା ଗୁଡିକ ପ୍ରାଚୀନ ଭାରତୀୟ ସଭ୍ୟତାର ସ୍ଥାପତ୍ୟ କୌଶଳ ଏବଂ କଳାତ୍ମକ ଶ୍ରେଷ୍ଠତାର ପ୍ରମାଣ।\\nବିଗତ ବର୍ଷମାନଙ୍କରେ ଏହି ଗୁମ୍ଫା ସାରା ବିଶ୍ୱରୁ ପର୍ଯ୍ୟଟକଙ୍କ ଆକର୍ଷଣ କେନ୍ଦ୍ର ପାଲଟିଛି ଏବଂ ଭାରତୀୟ ପ୍ରତ୍ନତାତ୍ୱିକ ସର୍ବେକ୍ଷଣ ଦ୍ୱାରା ସଂରକ୍ଷିତ ହୋଇଛି। ଭାରତର ସମୃଦ୍ଧ ସାଂସ୍କୃତିକ ଐତିହ୍ୟ ପ୍ରତି ଆଗ୍ରହୀ ଯେକୌଣସି ବ୍ୟକ୍ତି ଏହି ଗୁମ୍ଫାକୁ ଦେଖିବା ଉଚିତ।'}"
      ]
     },
     "execution_count": 3,
     "metadata": {},
     "output_type": "execute_result"
    }
   ],
   "source": [
    "dataset['train'][50]"
   ]
  },
  {
   "cell_type": "code",
   "execution_count": 4,
   "metadata": {},
   "outputs": [],
   "source": [
    "def get_training_corpus(dataset):\n",
    "    for example in dataset['train']:\n",
    "        yield example['instruction'].strip() + ' ' + example['output'].strip()"
   ]
  },
  {
   "cell_type": "code",
   "execution_count": 5,
   "metadata": {},
   "outputs": [],
   "source": [
    "with open(\"odia_corpus.txt\", \"w\", encoding=\"utf-8\") as f:\n",
    "    for line in get_training_corpus(dataset):\n",
    "        f.write(line + \"\\n\")"
   ]
  },
  {
   "cell_type": "code",
   "execution_count": 6,
   "metadata": {},
   "outputs": [],
   "source": [
    "import sentencepiece as spm\n",
    "\n",
    "data_file='odia_corpus.txt'\n",
    "tokenizer_name='odia_tokenizer'\n",
    "vocab_size=3000\n",
    "num_threads=8\n",
    "\n"
   ]
  },
  {
   "cell_type": "code",
   "execution_count": 9,
   "metadata": {},
   "outputs": [
    {
     "name": "stderr",
     "output_type": "stream",
     "text": [
      "sentencepiece_trainer.cc(78) LOG(INFO) Starts training with : \n",
      "trainer_spec {\n",
      "  input: odia_corpus.txt\n",
      "  input_format: \n",
      "  model_prefix: odia_tokenizer\n",
      "  model_type: BPE\n",
      "  vocab_size: 3000\n",
      "  self_test_sample_size: 0\n",
      "  character_coverage: 1\n",
      "  input_sentence_size: 0\n",
      "  shuffle_input_sentence: 1\n",
      "  seed_sentencepiece_size: 1000000\n",
      "  shrinking_factor: 0.75\n",
      "  max_sentence_length: 1073741824\n",
      "  num_threads: 8\n",
      "  num_sub_iterations: 2\n",
      "  max_sentencepiece_length: 16\n",
      "  split_by_unicode_script: 1\n",
      "  split_by_number: 1\n",
      "  split_by_whitespace: 1\n",
      "  split_digits: 0\n",
      "  pretokenization_delimiter: \n",
      "  treat_whitespace_as_suffix: 0\n",
      "  allow_whitespace_only_pieces: 0\n",
      "  required_chars: \n",
      "  byte_fallback: 0\n",
      "  vocabulary_output_piece_score: 1\n",
      "  train_extremely_large_corpus: 0\n",
      "  seed_sentencepieces_file: \n",
      "  hard_vocab_limit: 0\n",
      "  use_all_vocab: 0\n",
      "  unk_id: 0\n",
      "  bos_id: 1\n",
      "  eos_id: 2\n",
      "  pad_id: -1\n",
      "  unk_piece: <unk>\n",
      "  bos_piece: <|begin_of_text|>\n",
      "  eos_piece: <|eot_id|>\n",
      "  pad_piece: <|eot_id|>\n",
      "  unk_surface: ⁇\n",
      "  enable_differential_privacy: 0\n",
      "  differential_privacy_noise_level: 0\n",
      "  differential_privacy_clipping_threshold: 0\n",
      "}\n",
      "normalizer_spec {\n",
      "  name: nmt_nfkc\n",
      "  add_dummy_prefix: 1\n",
      "  remove_extra_whitespaces: 1\n",
      "  escape_whitespaces: 1\n",
      "  normalization_rule_tsv: \n",
      "}\n",
      "denormalizer_spec {}\n",
      "trainer_interface.cc(353) LOG(INFO) SentenceIterator is not specified. Using MultiFileSentenceIterator.\n",
      "trainer_interface.cc(185) LOG(INFO) Loading corpus: odia_corpus.txt\n",
      "trainer_interface.cc(409) LOG(INFO) Loaded all 12178 sentences\n",
      "trainer_interface.cc(425) LOG(INFO) Adding meta_piece: <unk>\n",
      "trainer_interface.cc(425) LOG(INFO) Adding meta_piece: <|begin_of_text|>\n",
      "trainer_interface.cc(425) LOG(INFO) Adding meta_piece: <|eot_id|>\n",
      "trainer_interface.cc(430) LOG(INFO) Normalizing sentences...\n",
      "trainer_interface.cc(539) LOG(INFO) all chars count=1832216\n",
      "trainer_interface.cc(560) LOG(INFO) Alphabet size=181\n",
      "trainer_interface.cc(561) LOG(INFO) Final character coverage=1\n",
      "trainer_interface.cc(592) LOG(INFO) Done! preprocessed 12178 sentences.\n",
      "trainer_interface.cc(598) LOG(INFO) Tokenizing input sentences with whitespace: 12178\n",
      "trainer_interface.cc(609) LOG(INFO) Done! 37991\n",
      "bpe_model_trainer.cc(159) LOG(INFO) Updating active symbols. max_freq=36537 min_freq=68\n",
      "bpe_model_trainer.cc(268) LOG(INFO) Added: freq=9261 size=20 all=4736 active=2109 piece=୍କ\n",
      "bpe_model_trainer.cc(268) LOG(INFO) Added: freq=5507 size=40 all=5665 active=3038 piece=ମ୍\n",
      "bpe_model_trainer.cc(268) LOG(INFO) Added: freq=3924 size=60 all=6598 active=3971 piece=ଷ୍ଟ\n",
      "bpe_model_trainer.cc(268) LOG(INFO) Added: freq=2915 size=80 all=7720 active=5093 piece=ଉଁ\n",
      "bpe_model_trainer.cc(268) LOG(INFO) Added: freq=2332 size=100 all=8720 active=6093 piece=ୋଇ\n",
      "bpe_model_trainer.cc(159) LOG(INFO) Updating active symbols. max_freq=2319 min_freq=214\n",
      "bpe_model_trainer.cc(268) LOG(INFO) Added: freq=1897 size=120 all=9485 active=1710 piece=ଥିଲେ\n",
      "bpe_model_trainer.cc(268) LOG(INFO) Added: freq=1686 size=140 all=10645 active=2870 piece=ନ୍ତି\n",
      "bpe_model_trainer.cc(268) LOG(INFO) Added: freq=1429 size=160 all=11523 active=3748 piece=▁ସୁ\n",
      "bpe_model_trainer.cc(268) LOG(INFO) Added: freq=1251 size=180 all=12334 active=4559 piece=▁କାର୍ଯ୍ୟ\n",
      "bpe_model_trainer.cc(268) LOG(INFO) Added: freq=1129 size=200 all=13088 active=5313 piece=ଯୋଗ\n",
      "bpe_model_trainer.cc(159) LOG(INFO) Updating active symbols. max_freq=1125 min_freq=194\n",
      "bpe_model_trainer.cc(268) LOG(INFO) Added: freq=1035 size=220 all=13522 active=1391 piece=ଳା\n",
      "bpe_model_trainer.cc(268) LOG(INFO) Added: freq=940 size=240 all=14129 active=1998 piece=୍ରମ\n",
      "bpe_model_trainer.cc(268) LOG(INFO) Added: freq=882 size=260 all=14838 active=2707 piece=▁ଓଡ଼ିଶାର\n",
      "bpe_model_trainer.cc(268) LOG(INFO) Added: freq=814 size=280 all=15307 active=3176 piece=ୃଦ୍ଧ\n",
      "bpe_model_trainer.cc(268) LOG(INFO) Added: freq=721 size=300 all=15760 active=3629 piece=ନର\n",
      "bpe_model_trainer.cc(159) LOG(INFO) Updating active symbols. max_freq=721 min_freq=172\n",
      "bpe_model_trainer.cc(268) LOG(INFO) Added: freq=680 size=320 all=16281 active=1441 piece=▁ଯୋଗ\n",
      "bpe_model_trainer.cc(268) LOG(INFO) Added: freq=632 size=340 all=16796 active=1956 piece=▁ପ୍ରକ\n",
      "bpe_model_trainer.cc(268) LOG(INFO) Added: freq=590 size=360 all=17385 active=2545 piece=▁୧\n",
      "bpe_model_trainer.cc(268) LOG(INFO) Added: freq=553 size=380 all=17951 active=3111 piece=▁ଯେଉଁ\n",
      "bpe_model_trainer.cc(268) LOG(INFO) Added: freq=524 size=400 all=18351 active=3511 piece=▁କୋ\n",
      "bpe_model_trainer.cc(159) LOG(INFO) Updating active symbols. max_freq=522 min_freq=152\n",
      "bpe_model_trainer.cc(268) LOG(INFO) Added: freq=500 size=420 all=18669 active=1276 piece=େପ\n",
      "bpe_model_trainer.cc(268) LOG(INFO) Added: freq=471 size=440 all=19087 active=1694 piece=ଥମ\n",
      "bpe_model_trainer.cc(268) LOG(INFO) Added: freq=453 size=460 all=19484 active=2091 piece=▁ଶିକ୍ଷା\n",
      "bpe_model_trainer.cc(268) LOG(INFO) Added: freq=434 size=480 all=19920 active=2527 piece=▁ରଖ\n",
      "bpe_model_trainer.cc(268) LOG(INFO) Added: freq=418 size=500 all=20481 active=3088 piece=▁ମେ\n",
      "bpe_model_trainer.cc(159) LOG(INFO) Updating active symbols. max_freq=416 min_freq=133\n",
      "bpe_model_trainer.cc(268) LOG(INFO) Added: freq=395 size=520 all=20815 active=1311 piece=▁ଭିନ୍ନ\n",
      "bpe_model_trainer.cc(268) LOG(INFO) Added: freq=383 size=540 all=21156 active=1652 piece=▁ଅନ୍ତ\n",
      "bpe_model_trainer.cc(268) LOG(INFO) Added: freq=367 size=560 all=21371 active=1867 piece=▁ବେ\n",
      "bpe_model_trainer.cc(268) LOG(INFO) Added: freq=352 size=580 all=21787 active=2283 piece=ାତୀୟ\n",
      "bpe_model_trainer.cc(268) LOG(INFO) Added: freq=339 size=600 all=22095 active=2591 piece=େବେଳେ\n",
      "bpe_model_trainer.cc(159) LOG(INFO) Updating active symbols. max_freq=339 min_freq=112\n",
      "bpe_model_trainer.cc(268) LOG(INFO) Added: freq=323 size=620 all=22647 active=1654 piece=ଫଳ\n",
      "bpe_model_trainer.cc(268) LOG(INFO) Added: freq=313 size=640 all=22853 active=1860 piece=▁ବ୍ୟବସ୍ଥା\n",
      "bpe_model_trainer.cc(268) LOG(INFO) Added: freq=300 size=660 all=23254 active=2261 piece=ପ୍ତ\n",
      "bpe_model_trainer.cc(268) LOG(INFO) Added: freq=289 size=680 all=23698 active=2705 piece=▁ଭୂମିକା\n",
      "bpe_model_trainer.cc(268) LOG(INFO) Added: freq=278 size=700 all=24044 active=3051 piece=ନ୍ଦ୍ର\n",
      "bpe_model_trainer.cc(159) LOG(INFO) Updating active symbols. max_freq=276 min_freq=94\n",
      "bpe_model_trainer.cc(268) LOG(INFO) Added: freq=271 size=720 all=24466 active=1604 piece=▁ବିଶ୍ୱାସ\n",
      "bpe_model_trainer.cc(268) LOG(INFO) Added: freq=259 size=740 all=24911 active=2049 piece=▁ନୁ\n",
      "bpe_model_trainer.cc(268) LOG(INFO) Added: freq=251 size=760 all=25349 active=2487 piece=▁ମୂ\n",
      "bpe_model_trainer.cc(268) LOG(INFO) Added: freq=245 size=780 all=25612 active=2750 piece=▁ଧର୍ମ\n",
      "bpe_model_trainer.cc(268) LOG(INFO) Added: freq=240 size=800 all=25870 active=3008 piece=▁ଐତିହ୍ୟ\n",
      "bpe_model_trainer.cc(159) LOG(INFO) Updating active symbols. max_freq=240 min_freq=82\n",
      "bpe_model_trainer.cc(268) LOG(INFO) Added: freq=234 size=820 all=26241 active=1661 piece=▁ସାମିଲ\n",
      "bpe_model_trainer.cc(268) LOG(INFO) Added: freq=226 size=840 all=26567 active=1987 piece=▁ଲାଭ\n",
      "bpe_model_trainer.cc(268) LOG(INFO) Added: freq=222 size=860 all=26866 active=2286 piece=▁ବିବିଧ\n",
      "bpe_model_trainer.cc(268) LOG(INFO) Added: freq=215 size=880 all=27136 active=2556 piece=▁ଆର୍ଥିକ\n",
      "bpe_model_trainer.cc(268) LOG(INFO) Added: freq=209 size=900 all=27467 active=2887 piece=କୃତିକ\n",
      "bpe_model_trainer.cc(159) LOG(INFO) Updating active symbols. max_freq=209 min_freq=72\n",
      "bpe_model_trainer.cc(268) LOG(INFO) Added: freq=202 size=920 all=27662 active=1565 piece=ାତ୍ମକ\n",
      "bpe_model_trainer.cc(268) LOG(INFO) Added: freq=196 size=940 all=27875 active=1778 piece=ଯାଏ\n",
      "bpe_model_trainer.cc(268) LOG(INFO) Added: freq=189 size=960 all=28148 active=2051 piece=ବ୍ଦ\n",
      "bpe_model_trainer.cc(268) LOG(INFO) Added: freq=185 size=980 all=28353 active=2256 piece=କଳା\n",
      "bpe_model_trainer.cc(268) LOG(INFO) Added: freq=182 size=1000 all=28548 active=2451 piece=▁ଅଧିକାଂଶ\n",
      "bpe_model_trainer.cc(159) LOG(INFO) Updating active symbols. max_freq=182 min_freq=66\n",
      "bpe_model_trainer.cc(268) LOG(INFO) Added: freq=179 size=1020 all=28776 active=1656 piece=ଶୁଣା\n",
      "bpe_model_trainer.cc(268) LOG(INFO) Added: freq=175 size=1040 all=28991 active=1871 piece=ତ୍\n",
      "bpe_model_trainer.cc(268) LOG(INFO) Added: freq=171 size=1060 all=29279 active=2159 piece=ିଷ୍ଟ\n",
      "bpe_model_trainer.cc(268) LOG(INFO) Added: freq=167 size=1080 all=29362 active=2242 piece=▁ନୃତ୍ୟ\n",
      "bpe_model_trainer.cc(268) LOG(INFO) Added: freq=162 size=1100 all=29477 active=2357 piece=ଗା\n",
      "bpe_model_trainer.cc(159) LOG(INFO) Updating active symbols. max_freq=162 min_freq=60\n",
      "bpe_model_trainer.cc(268) LOG(INFO) Added: freq=160 size=1120 all=29721 active=1674 piece=▁ବିଷୟ\n",
      "bpe_model_trainer.cc(268) LOG(INFO) Added: freq=157 size=1140 all=29952 active=1905 piece=▁ଉନ୍ନତି\n",
      "bpe_model_trainer.cc(268) LOG(INFO) Added: freq=155 size=1160 all=30145 active=2098 piece=▁ସେମାନଙ୍କର\n",
      "bpe_model_trainer.cc(268) LOG(INFO) Added: freq=152 size=1180 all=30358 active=2311 piece=▁ଅପରାଧ\n",
      "bpe_model_trainer.cc(268) LOG(INFO) Added: freq=149 size=1200 all=30682 active=2635 piece=▁ଉଦାହରଣ\n",
      "bpe_model_trainer.cc(159) LOG(INFO) Updating active symbols. max_freq=149 min_freq=55\n",
      "bpe_model_trainer.cc(268) LOG(INFO) Added: freq=144 size=1220 all=30845 active=1695 piece=▁କାର୍ଯ୍ୟକଳାପ\n",
      "bpe_model_trainer.cc(268) LOG(INFO) Added: freq=141 size=1240 all=31057 active=1907 piece=▁ଅନ୍ତର୍ଭୁକ୍ତ\n",
      "bpe_model_trainer.cc(268) LOG(INFO) Added: freq=138 size=1260 all=31282 active=2132 piece=▁ଶ୍ରେ\n",
      "bpe_model_trainer.cc(268) LOG(INFO) Added: freq=136 size=1280 all=31515 active=2365 piece=▁ରେକ\n",
      "bpe_model_trainer.cc(268) LOG(INFO) Added: freq=134 size=1300 all=31733 active=2583 piece=ିବାକୁ\n",
      "bpe_model_trainer.cc(159) LOG(INFO) Updating active symbols. max_freq=134 min_freq=50\n",
      "bpe_model_trainer.cc(268) LOG(INFO) Added: freq=132 size=1320 all=32015 active=1848 piece=୍ୟୁରା\n",
      "bpe_model_trainer.cc(268) LOG(INFO) Added: freq=129 size=1340 all=32176 active=2009 piece=ସୋ\n",
      "bpe_model_trainer.cc(268) LOG(INFO) Added: freq=127 size=1360 all=32449 active=2282 piece=▁ମାର୍\n",
      "bpe_model_trainer.cc(268) LOG(INFO) Added: freq=125 size=1380 all=32561 active=2394 piece=▁ଆଦିବାସୀ\n",
      "bpe_model_trainer.cc(268) LOG(INFO) Added: freq=121 size=1400 all=32718 active=2551 piece=ଂସ\n",
      "bpe_model_trainer.cc(159) LOG(INFO) Updating active symbols. max_freq=121 min_freq=47\n",
      "bpe_model_trainer.cc(268) LOG(INFO) Added: freq=119 size=1420 all=32932 active=1829 piece=ବିଶେଷ\n",
      "bpe_model_trainer.cc(268) LOG(INFO) Added: freq=116 size=1440 all=33229 active=2126 piece=ସ୍ତି\n",
      "bpe_model_trainer.cc(268) LOG(INFO) Added: freq=115 size=1460 all=33387 active=2284 piece=▁ସ୍ୱାଧୀନ\n",
      "bpe_model_trainer.cc(268) LOG(INFO) Added: freq=112 size=1480 all=33556 active=2453 piece=ର୍ଘ\n",
      "bpe_model_trainer.cc(268) LOG(INFO) Added: freq=111 size=1500 all=33771 active=2668 piece=▁କମ୍\n",
      "bpe_model_trainer.cc(159) LOG(INFO) Updating active symbols. max_freq=111 min_freq=44\n",
      "bpe_model_trainer.cc(268) LOG(INFO) Added: freq=109 size=1520 all=33972 active=1884 piece=▁ଚୁକ୍ତି\n",
      "bpe_model_trainer.cc(268) LOG(INFO) Added: freq=106 size=1540 all=34234 active=2146 piece=re\n",
      "bpe_model_trainer.cc(268) LOG(INFO) Added: freq=104 size=1560 all=34520 active=2432 piece=▁ସ୍ପ\n",
      "bpe_model_trainer.cc(268) LOG(INFO) Added: freq=102 size=1580 all=34730 active=2642 piece=▁ରଙ୍ଗ\n",
      "bpe_model_trainer.cc(268) LOG(INFO) Added: freq=100 size=1600 all=34866 active=2778 piece=▁ଅଞ୍ଚଳର\n",
      "bpe_model_trainer.cc(159) LOG(INFO) Updating active symbols. max_freq=100 min_freq=40\n",
      "bpe_model_trainer.cc(268) LOG(INFO) Added: freq=98 size=1620 all=34977 active=1855 piece=▁ଭେ\n",
      "bpe_model_trainer.cc(268) LOG(INFO) Added: freq=97 size=1640 all=35181 active=2059 piece=▁ତୁଳନ\n",
      "bpe_model_trainer.cc(268) LOG(INFO) Added: freq=96 size=1660 all=35280 active=2158 piece=▁ବ୍ୟକ୍ତିଗତ\n",
      "bpe_model_trainer.cc(268) LOG(INFO) Added: freq=94 size=1680 all=35437 active=2315 piece=▁ସାହିତ୍ୟ\n",
      "bpe_model_trainer.cc(268) LOG(INFO) Added: freq=92 size=1700 all=35706 active=2584 piece=▁ରାସ\n",
      "bpe_model_trainer.cc(159) LOG(INFO) Updating active symbols. max_freq=92 min_freq=38\n",
      "bpe_model_trainer.cc(268) LOG(INFO) Added: freq=91 size=1720 all=35856 active=1930 piece=▁ଟିକସ\n",
      "bpe_model_trainer.cc(268) LOG(INFO) Added: freq=90 size=1740 all=35975 active=2049 piece=▁ବିଶ୍ୱର\n",
      "bpe_model_trainer.cc(268) LOG(INFO) Added: freq=89 size=1760 all=36155 active=2229 piece=▁ପାରମ୍ପାରିକ\n",
      "bpe_model_trainer.cc(268) LOG(INFO) Added: freq=87 size=1780 all=36377 active=2451 piece=▁ନିମ୍ନ\n",
      "bpe_model_trainer.cc(268) LOG(INFO) Added: freq=85 size=1800 all=36541 active=2615 piece=ଫର୍ମ\n",
      "bpe_model_trainer.cc(159) LOG(INFO) Updating active symbols. max_freq=85 min_freq=36\n",
      "bpe_model_trainer.cc(268) LOG(INFO) Added: freq=84 size=1820 all=36662 active=1933 piece=ିକ୍ସ\n",
      "bpe_model_trainer.cc(268) LOG(INFO) Added: freq=83 size=1840 all=36833 active=2104 piece=▁ନିରନ୍ତର\n",
      "bpe_model_trainer.cc(268) LOG(INFO) Added: freq=82 size=1860 all=37104 active=2375 piece=▁ପରିବାର\n",
      "bpe_model_trainer.cc(268) LOG(INFO) Added: freq=80 size=1880 all=37242 active=2513 piece=▁ଲଗ\n",
      "bpe_model_trainer.cc(268) LOG(INFO) Added: freq=79 size=1900 all=37349 active=2620 piece=▁କହୁ\n",
      "bpe_model_trainer.cc(159) LOG(INFO) Updating active symbols. max_freq=79 min_freq=33\n",
      "bpe_model_trainer.cc(268) LOG(INFO) Added: freq=78 size=1920 all=37409 active=1922 piece=ଦାର\n",
      "bpe_model_trainer.cc(268) LOG(INFO) Added: freq=77 size=1940 all=37516 active=2029 piece=▁ଗେ\n",
      "bpe_model_trainer.cc(268) LOG(INFO) Added: freq=76 size=1960 all=37808 active=2321 piece=▁ଏଫ\n",
      "bpe_model_trainer.cc(268) LOG(INFO) Added: freq=75 size=1980 all=37991 active=2504 piece=▁ପଛ\n",
      "bpe_model_trainer.cc(268) LOG(INFO) Added: freq=74 size=2000 all=38109 active=2622 piece=ମୟ\n",
      "bpe_model_trainer.cc(159) LOG(INFO) Updating active symbols. max_freq=74 min_freq=31\n",
      "bpe_model_trainer.cc(268) LOG(INFO) Added: freq=74 size=2020 all=38255 active=2041 piece=▁ଅନୁସାରେ\n",
      "bpe_model_trainer.cc(268) LOG(INFO) Added: freq=73 size=2040 all=38411 active=2197 piece=▁ବୁଝାମଣା\n",
      "bpe_model_trainer.cc(268) LOG(INFO) Added: freq=72 size=2060 all=38640 active=2426 piece=ଲିଙ୍ଗୀ\n",
      "bpe_model_trainer.cc(268) LOG(INFO) Added: freq=71 size=2080 all=38756 active=2542 piece=▁ଦାୟିତ୍ୱ\n",
      "bpe_model_trainer.cc(268) LOG(INFO) Added: freq=70 size=2100 all=38912 active=2698 piece=érénérén\n",
      "bpe_model_trainer.cc(159) LOG(INFO) Updating active symbols. max_freq=70 min_freq=30\n",
      "bpe_model_trainer.cc(268) LOG(INFO) Added: freq=68 size=2120 all=39018 active=2044 piece=ସଲ\n",
      "bpe_model_trainer.cc(268) LOG(INFO) Added: freq=68 size=2140 all=39105 active=2131 piece=▁ଆଭିମୁଖ୍ୟ\n",
      "bpe_model_trainer.cc(268) LOG(INFO) Added: freq=67 size=2160 all=39318 active=2344 piece=▁ଗ୍ରେ\n",
      "bpe_model_trainer.cc(268) LOG(INFO) Added: freq=66 size=2180 all=39462 active=2488 piece=ଖା\n",
      "bpe_model_trainer.cc(268) LOG(INFO) Added: freq=66 size=2200 all=39666 active=2692 piece=▁ପ୍ରଦୂଷଣ\n",
      "bpe_model_trainer.cc(159) LOG(INFO) Updating active symbols. max_freq=66 min_freq=28\n",
      "bpe_model_trainer.cc(268) LOG(INFO) Added: freq=64 size=2220 all=39741 active=2054 piece=xia\n",
      "bpe_model_trainer.cc(268) LOG(INFO) Added: freq=63 size=2240 all=39807 active=2120 piece=▁ଅସୁ\n",
      "bpe_model_trainer.cc(268) LOG(INFO) Added: freq=62 size=2260 all=39928 active=2241 piece=ମାରେ\n",
      "bpe_model_trainer.cc(268) LOG(INFO) Added: freq=62 size=2280 all=40013 active=2326 piece=▁ସଂଖ୍ୟ\n",
      "bpe_model_trainer.cc(268) LOG(INFO) Added: freq=61 size=2300 all=40121 active=2434 piece=ୱେର\n",
      "bpe_model_trainer.cc(159) LOG(INFO) Updating active symbols. max_freq=61 min_freq=27\n",
      "bpe_model_trainer.cc(268) LOG(INFO) Added: freq=60 size=2320 all=40292 active=2169 piece=ହୋ\n",
      "bpe_model_trainer.cc(268) LOG(INFO) Added: freq=60 size=2340 all=40495 active=2372 piece=▁ପ୍ରାର୍ଥ\n",
      "bpe_model_trainer.cc(268) LOG(INFO) Added: freq=59 size=2360 all=40552 active=2429 piece=▁ପଡ଼ିବ\n",
      "bpe_model_trainer.cc(268) LOG(INFO) Added: freq=58 size=2380 all=40665 active=2542 piece=▁ଗୁଣବ\n",
      "bpe_model_trainer.cc(268) LOG(INFO) Added: freq=57 size=2400 all=40693 active=2570 piece=ମିଳ\n",
      "bpe_model_trainer.cc(159) LOG(INFO) Updating active symbols. max_freq=57 min_freq=26\n",
      "bpe_model_trainer.cc(268) LOG(INFO) Added: freq=57 size=2420 all=40781 active=2120 piece=▁ଉପଯୁକ୍ତ\n",
      "bpe_model_trainer.cc(268) LOG(INFO) Added: freq=56 size=2440 all=40891 active=2230 piece=ତ୍ସ୍ୟ\n",
      "bpe_model_trainer.cc(268) LOG(INFO) Added: freq=56 size=2460 all=40946 active=2285 piece=▁କହିଥିଲେ\n",
      "bpe_model_trainer.cc(268) LOG(INFO) Added: freq=55 size=2480 all=41067 active=2406 piece=▁ଶରୀ\n",
      "bpe_model_trainer.cc(268) LOG(INFO) Added: freq=55 size=2500 all=41108 active=2447 piece=▁ପ୍ରସ୍ତାବ\n",
      "bpe_model_trainer.cc(159) LOG(INFO) Updating active symbols. max_freq=55 min_freq=25\n",
      "bpe_model_trainer.cc(268) LOG(INFO) Added: freq=54 size=2520 all=41229 active=2175 piece=▁ବ୍ୟବସାୟିକ\n",
      "bpe_model_trainer.cc(268) LOG(INFO) Added: freq=53 size=2540 all=41434 active=2380 piece=ସ୍ଥାୟୀ\n",
      "bpe_model_trainer.cc(268) LOG(INFO) Added: freq=52 size=2560 all=41500 active=2446 piece=ତୀ\n",
      "bpe_model_trainer.cc(268) LOG(INFO) Added: freq=52 size=2580 all=41596 active=2542 piece=▁ଆଗ୍ରହ\n",
      "bpe_model_trainer.cc(268) LOG(INFO) Added: freq=51 size=2600 all=41708 active=2654 piece=ବୋଧ\n",
      "bpe_model_trainer.cc(159) LOG(INFO) Updating active symbols. max_freq=51 min_freq=24\n",
      "bpe_model_trainer.cc(268) LOG(INFO) Added: freq=51 size=2620 all=41827 active=2197 piece=ମାନଙ୍କର\n",
      "bpe_model_trainer.cc(268) LOG(INFO) Added: freq=50 size=2640 all=41993 active=2363 piece=ୟର୍କ\n",
      "bpe_model_trainer.cc(268) LOG(INFO) Added: freq=50 size=2660 all=42056 active=2426 piece=▁ଅତ୍ୟଧିକ\n",
      "bpe_model_trainer.cc(268) LOG(INFO) Added: freq=49 size=2680 all=42192 active=2562 piece=ଳେଷଣ\n",
      "bpe_model_trainer.cc(268) LOG(INFO) Added: freq=49 size=2700 all=42310 active=2680 piece=▁ବିପ୍ଳ\n",
      "bpe_model_trainer.cc(159) LOG(INFO) Updating active symbols. max_freq=49 min_freq=22\n",
      "bpe_model_trainer.cc(268) LOG(INFO) Added: freq=49 size=2720 all=42329 active=2131 piece=▁ପ୍ରଯୁକ୍ତିବି\n",
      "bpe_model_trainer.cc(268) LOG(INFO) Added: freq=48 size=2740 all=42473 active=2275 piece=▁ରାଜି\n",
      "bpe_model_trainer.cc(268) LOG(INFO) Added: freq=48 size=2760 all=42507 active=2309 piece=▁ବ୍ୟାକ୍ଟେରିଆ\n",
      "bpe_model_trainer.cc(268) LOG(INFO) Added: freq=47 size=2780 all=42671 active=2473 piece=▁କଷ୍ଟ\n",
      "bpe_model_trainer.cc(268) LOG(INFO) Added: freq=47 size=2800 all=42708 active=2510 piece=▁ଦିଆଯାଉଛି\n",
      "bpe_model_trainer.cc(159) LOG(INFO) Updating active symbols. max_freq=47 min_freq=22\n",
      "trainer_interface.cc(687) LOG(INFO) Saving model: odia_tokenizer.model\n",
      "trainer_interface.cc(699) LOG(INFO) Saving vocabs: odia_tokenizer.vocab\n"
     ]
    }
   ],
   "source": [
    "spm.SentencePieceTrainer.train(\n",
    "    input=data_file,\n",
    "    model_prefix=tokenizer_name,\n",
    "    vocab_size=vocab_size,\n",
    "    num_threads=num_threads,\n",
    "    model_type=\"bpe\",\n",
    "    max_sentence_length=1073741824,\n",
    "    shuffle_input_sentence=\"true\",\n",
    "    character_coverage=1.0,\n",
    "    hard_vocab_limit=\"false\",\n",
    "    unk_id=0,\n",
    "    bos_id=1,\n",
    "    eos_id=2,\n",
    "    pad_id=-1,\n",
    "    unk_piece='<unk>',\n",
    "    bos_piece='<|begin_of_text|>',\n",
    "    eos_piece='<|eot_id|>',\n",
    "    pad_piece='<|eot_id|>',\n",
    "    unk_surface='⁇',\n",
    ")"
   ]
  },
  {
   "cell_type": "markdown",
   "metadata": {},
   "source": [
    "# Test the tokenizer"
   ]
  },
  {
   "cell_type": "code",
   "execution_count": 11,
   "metadata": {},
   "outputs": [],
   "source": [
    "sp = spm.SentencePieceProcessor(model_file='odia_tokenizer/odia_tokenizer.model')"
   ]
  },
  {
   "cell_type": "code",
   "execution_count": 12,
   "metadata": {},
   "outputs": [
    {
     "name": "stdout",
     "output_type": "stream",
     "text": [
      "[262, 413, 2833, 1854, 25, 2273, 1854, 2194, 2871, 6, 872, 3, 2896, 2837, 2858]\n",
      "15\n"
     ]
    },
    {
     "data": {
      "text/plain": [
       "(None, None)"
      ]
     },
     "execution_count": 12,
     "metadata": {},
     "output_type": "execute_result"
    }
   ],
   "source": [
    "odia_text='ଓଡ଼ିଶାର ଉଦୟଗିରି ଏବଂ ଖଣ୍ଡଗିରି ଗୁମ୍ଫାର ଇତିହାସ କ’ଣ?'\n",
    "\n",
    "print(sp.Encode(odia_text)),print(len(sp.Encode(odia_text)))"
   ]
  },
  {
   "cell_type": "code",
   "execution_count": 14,
   "metadata": {},
   "outputs": [
    {
     "data": {
      "text/plain": [
       "'ଓଡ଼ିଶାର ଉଦୟଗିରି ଏବଂ ଖଣ୍ଡ'"
      ]
     },
     "execution_count": 14,
     "metadata": {},
     "output_type": "execute_result"
    }
   ],
   "source": [
    "pp=sp.Decode([262, 413, 2833, 1854, 25, 2273])\n",
    "pp"
   ]
  },
  {
   "cell_type": "markdown",
   "metadata": {},
   "source": [
    "# Extend the LLAMA Tokenizer"
   ]
  },
  {
   "cell_type": "code",
   "execution_count": 15,
   "metadata": {},
   "outputs": [
    {
     "name": "stdout",
     "output_type": "stream",
     "text": [
      "Number of tokens before merge: 128256\n",
      "Number of tokens in new tokenizer: 3000\n"
     ]
    }
   ],
   "source": [
    "import os\n",
    "from transformers import AutoTokenizer\n",
    "from sentencepiece import sentencepiece_model_pb2 as sp_pb2_model\n",
    "\n",
    "llama_model_id = \"meta-llama/Llama-3.2-3B-Instruct\"\n",
    "original_tokenizer = AutoTokenizer.from_pretrained(llama_model_id)\n",
    "new_tokenizer_spm = sp_pb2_model.ModelProto()\n",
    "new_tokenizer_spm.ParseFromString(open(\"odia_tokenizer/odia_tokenizer.model\", \"rb\").read())\n",
    "\n",
    "original_tokenizer_tokenset = set(original_tokenizer.get_vocab().keys())\n",
    "print(f\"Number of tokens before merge: {len(original_tokenizer_tokenset)}\")\n",
    "print(f\"Number of tokens in new tokenizer: {len(new_tokenizer_spm.pieces)}\")"
   ]
  },
  {
   "cell_type": "code",
   "execution_count": 16,
   "metadata": {},
   "outputs": [
    {
     "name": "stdout",
     "output_type": "stream",
     "text": [
      "Number of tokens after merge: 131142\n"
     ]
    }
   ],
   "source": [
    "new_pieces = []\n",
    "for p in new_tokenizer_spm.pieces:\n",
    "    piece = p.piece\n",
    "    if piece not in original_tokenizer_tokenset:\n",
    "        # new_p = sp_pb2_model.ModelProto().SentencePiece()\n",
    "        new_pieces.append(piece)\n",
    "original_tokenizer.add_tokens(new_pieces)\n",
    "print(f\"Number of tokens after merge: {len(set(original_tokenizer.get_vocab().keys()))}\")"
   ]
  },
  {
   "cell_type": "code",
   "execution_count": 17,
   "metadata": {},
   "outputs": [
    {
     "name": "stdout",
     "output_type": "stream",
     "text": [
      "Tokenizer saved to llama_odia_tokenizer\n"
     ]
    }
   ],
   "source": [
    "\n",
    "extended_tokenizer_save_path = 'llama_odia_tokenizer'\n",
    "os.makedirs(extended_tokenizer_save_path , exist_ok=True)\n",
    "original_tokenizer.save_pretrained(extended_tokenizer_save_path)\n",
    "print(f\"Tokenizer saved to {extended_tokenizer_save_path}\")"
   ]
  },
  {
   "cell_type": "code",
   "execution_count": 18,
   "metadata": {},
   "outputs": [],
   "source": [
    "from tokenizers import Tokenizer\n",
    "# Verify that the extended tokenizer's English vocab matches with that of the original Llama tokenizer\n",
    "tok1 = AutoTokenizer.from_pretrained(llama_model_id)\n",
    "tok2 = Tokenizer.from_file(os.path.join(extended_tokenizer_save_path, \"tokenizer.json\"))\n",
    "for i in range(len(tok1)):\n",
    "    assert tok1.convert_ids_to_tokens(i) == tok2.id_to_token(i), f\"Token mismatch at index {i}.\""
   ]
  },
  {
   "cell_type": "markdown",
   "metadata": {},
   "source": [
    " RELOAD THE KERNEL"
   ]
  },
  {
   "cell_type": "markdown",
   "metadata": {},
   "source": [
    "# Test using the new LLAMA Tokenizer"
   ]
  },
  {
   "cell_type": "code",
   "execution_count": 4,
   "metadata": {},
   "outputs": [],
   "source": [
    "from tokenizers import Tokenizer\n",
    "from transformers import AutoTokenizer\n",
    "import os\n",
    "\n",
    "extended_tokenizer_save_path = 'llama_odia_tokenizer'\n",
    "tok = AutoTokenizer.from_pretrained(extended_tokenizer_save_path)\n",
    "odia_text='ଓଡ଼ିଶାର ଉଦୟଗିରି ଏବଂ ଖଣ୍ଡଗିରି ଗୁମ୍ଫାର ଇତିହାସ କ’ଣ?<|eot_id|>'"
   ]
  },
  {
   "cell_type": "code",
   "execution_count": 5,
   "metadata": {},
   "outputs": [
    {
     "name": "stdout",
     "output_type": "stream",
     "text": [
      "[128000, 131101, 128709, 131077, 128260, 220, 131092, 131074, 131069, 130100, 220, 131072, 131061, 131082, 220, 131100, 128385, 130100, 220, 128378, 128296, 129791, 131058, 220, 131080, 129099, 220, 131060, 131113, 131073, 30, 128009]\n",
      "32\n",
      "<|begin_of_text|>ଓଡ଼ିଶାର ଉଦୟଗିରି ଏବଂ ଖଣ୍ଡଗିରି ଗୁମ୍ଫାର ଇତିହାସ କ’ଣ?<|eot_id|>\n"
     ]
    }
   ],
   "source": [
    "tok_ids = tok(odia_text).input_ids\n",
    "print(tok_ids)\n",
    "print(len(tok_ids))\n",
    "\n",
    "print(tok.decode(tok_ids))"
   ]
  }
 ],
 "metadata": {
  "kernelspec": {
   "display_name": "diffusion_env",
   "language": "python",
   "name": "python3"
  },
  "language_info": {
   "codemirror_mode": {
    "name": "ipython",
    "version": 3
   },
   "file_extension": ".py",
   "mimetype": "text/x-python",
   "name": "python",
   "nbconvert_exporter": "python",
   "pygments_lexer": "ipython3",
   "version": "3.11.10"
  }
 },
 "nbformat": 4,
 "nbformat_minor": 2
}
